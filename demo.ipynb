{
 "cells": [
  {
   "cell_type": "code",
   "execution_count": 1,
   "metadata": {},
   "outputs": [
    {
     "name": "stdout",
     "output_type": "stream",
     "text": [
      "     Readout  NGROUP  NINT    tint  NEXP    texp\n",
      "0      RAPID       2     1    21.5     4    86.0\n",
      "1    BRIGHT2       2     1    42.9     4   171.8\n",
      "2    BRIGHT2       3     1    64.4     4   257.6\n",
      "3    BRIGHT2       4     1    85.9     4   343.6\n",
      "4    BRIGHT1       5     1    96.6     4   386.4\n",
      "5    BRIGHT1       6     1   118.1     4   472.4\n",
      "6    BRIGHT1       7     1   139.6     4   558.4\n",
      "7    BRIGHT1       8     1   161.1     4   644.4\n",
      "8    BRIGHT1       9     1   182.5     4   730.0\n",
      "9    BRIGHT1      10     1   204.0     4   816.0\n",
      "10  SHALLOW4       5     1   257.7     4  1030.8\n",
      "11  SHALLOW4       6     1   311.4     4  1245.6\n",
      "12  SHALLOW4       7     1   365.1     4  1460.4\n",
      "13  SHALLOW4       8     1   418.7     4  1674.8\n",
      "14  SHALLOW4       9     1   472.4     4  1889.6\n",
      "15  SHALLOW4      10     1   526.1     4  2104.4\n",
      "16   MEDIUM8       6     1   622.7     4  2490.8\n",
      "17   MEDIUM8       7     1   730.1     4  2920.4\n",
      "18   MEDIUM8       8     1   837.5     4  3350.0\n",
      "19   MEDIUM8       9     1   944.8     4  3779.2\n",
      "20   MEDIUM8      10     1  1052.2     4  4208.8\n"
     ]
    }
   ],
   "source": [
    "from readoutpatterns import readoutpatternclass\n",
    "readoutpattern = readoutpatternclass('nircam')\n",
    "# readoutpattern.t is a panda table\n",
    "print(readoutpattern.t)\n"
   ]
  },
  {
   "cell_type": "code",
   "execution_count": 2,
   "metadata": {},
   "outputs": [
    {
     "name": "stdout",
     "output_type": "stream",
     "text": [
      "test1: 20000 secs: 4208.8\n",
      "test2: 2200 secs: 2490.8\n",
      "test3: next biggest to 2200 secs {'readout_pattern': 'medium8', 'NGROUP': 6, 'NINT': 1, 'tint': 622.7, 'NEXP': 4, 'texp': 2490.8}\n",
      "test4: closest to 880 secs {'readout_pattern': 'bright1', 'NGROUP': 10, 'NINT': 1, 'tint': 204.0, 'NEXP': 4, 'texp': 816.0}\n",
      "test5: next biggest to 880 secs {'readout_pattern': 'shallow4', 'NGROUP': 5, 'NINT': 1, 'tint': 257.7, 'NEXP': 4, 'texp': 1030.8}\n"
     ]
    }
   ],
   "source": [
    "    index = readoutpattern.index4closestexptime(20000)\n",
    "    print('test1: 20000 secs:',readoutpattern.t.at[index,'texp'])\n",
    "    index = readoutpattern.index4nextbiggestexptime(2200)\n",
    "    print('test2: 2200 secs:',readoutpattern.t.at[index,'texp'])\n",
    "    info = readoutpattern.info4nextbiggestexptime(2200)\n",
    "    print('test3: next biggest to 2200 secs',info)\n",
    "    info = readoutpattern.info4closestexptime(880)\n",
    "    print('test4: closest to 880 secs',info)\n",
    "    info = readoutpattern.info4nextbiggestexptime(880)\n",
    "    print('test5: next biggest to 880 secs',info)"
   ]
  },
  {
   "cell_type": "code",
   "execution_count": 3,
   "metadata": {},
   "outputs": [
    {
     "name": "stdout",
     "output_type": "stream",
     "text": [
      "{'ElGordo': ('01 02 55.2', '-49 14 29.3'), 'EmptyERS': ('03 32 42.397', '-27 42 7.93')}\n"
     ]
    }
   ],
   "source": [
    "from background4jwst import background4jwstclass\n",
    "background4jwst=background4jwstclass()\n",
    "    \n",
    "# set the position for which the background will be calculated. set_position_by_target uses \n",
    "# pre-defined positions, set_position can be used to set any position\n",
    "print(background4jwst.defaulttargets)\n",
    "background4jwst.set_position_by_target('ElGordo')\n",
    "# alternatively, background4jwst.set_position('01 02 55.2','-49 14 29.3','ElGordo')\n",
    "# Get the background from pandeia for this position\n",
    "# optional parameters: lam, thresh\n",
    "background4jwst.calc_background()\n"
   ]
  },
  {
   "cell_type": "code",
   "execution_count": 4,
   "metadata": {},
   "outputs": [
    {
     "name": "stdout",
     "output_type": "stream",
     "text": [
      "### Calculating percentile: 10\n",
      "day: 94\n",
      "### Calculating percentile: 50\n",
      "day: 49\n",
      "### Calculating percentile: 90\n",
      "day: 188\n",
      "   lam  total_bg_10  total_bg_50  total_bg_90\n",
      "  0.50     0.177648     0.174121     0.172872\n",
      "  0.60     0.240510     0.236066     0.234040\n",
      "  0.70     0.269008     0.263980     0.261773\n",
      "  0.80     0.278992     0.273827     0.271631\n",
      "  0.90     0.275904     0.270867     0.268769\n",
      "  1.00     0.274530     0.270583     0.267293\n",
      "  1.10     0.258115     0.254477     0.251291\n",
      "  1.20     0.240041     0.236748     0.233675\n",
      "  1.30     0.225688     0.223013     0.220413\n",
      "  1.40     0.215144     0.213299     0.211462\n",
      "  1.50     0.204651     0.203554     0.202394\n",
      "  1.60     0.194483     0.194054     0.193487\n",
      "  1.70     0.184759     0.184919     0.184872\n",
      "  1.80     0.171694     0.172828     0.172553\n",
      "  1.90     0.163139     0.164743     0.164847\n",
      "  2.00     0.155113     0.157129     0.157559\n",
      "  2.10     0.148008     0.150382     0.151105\n",
      "  2.20     0.141398     0.144085     0.145061\n",
      "  2.30     0.133931     0.136705     0.137651\n",
      "  2.40     0.127067     0.129915     0.130827\n",
      "  2.50     0.120686     0.123596     0.124471\n",
      "  2.60     0.114813     0.117773     0.118610\n",
      "  2.70     0.109382     0.112384     0.113181\n",
      "  2.80     0.104372     0.107407     0.108165\n",
      "  2.90     0.093628     0.096425     0.097659\n",
      "  3.00     0.089326     0.092141     0.093336\n",
      "  3.10     0.085164     0.087973     0.089161\n",
      "  3.20     0.081606     0.084417     0.085573\n",
      "  3.30     0.079398     0.082248     0.083288\n",
      "  3.40     0.074307     0.077068     0.078240\n",
      "  3.50     0.085011     0.089852     0.101191\n",
      "  3.70     0.092494     0.098934     0.117580\n",
      "  4.00     0.119340     0.130230     0.166222\n",
      "  4.25     0.157471     0.174365     0.231855\n",
      "  4.50     0.220425     0.246238     0.330967\n",
      "  4.75     0.307669     0.345345     0.462726\n",
      "  5.00     0.420261     0.472710     0.626693\n",
      "  5.10     0.483154     0.543715     0.717158\n",
      "  5.20     0.553216     0.622709     0.816795\n",
      "  5.30     0.632153     0.711423     0.927208\n",
      "  5.40     0.716464     0.806359     1.044966\n",
      "  5.50     0.810415     0.911811     1.174113\n",
      "  5.70     1.025930     1.152973     1.464950\n",
      "  5.90     1.271828     1.428005     1.792258\n",
      "  6.10     1.561015     1.749687     2.167524\n",
      "  6.30     1.899358     2.124004     2.595083\n",
      "  6.50     2.228943     2.492423     3.018128\n",
      "  6.70     2.611138     2.916398     3.494421\n",
      "  6.90     3.030683     3.380315     4.008046\n",
      "  7.10     3.480283     3.876533     4.550795\n",
      "  7.30     3.965636     4.410470     5.126991\n",
      "  7.50     4.489025     4.984104     5.737751\n",
      "  7.70     5.028806     5.575311     6.361388\n",
      "  7.90     5.564972     6.163597     6.977929\n",
      "  8.10     6.116136     6.767392     7.604478\n",
      "  8.30     6.696366     7.400578     8.253867\n",
      "  8.50     7.298851     8.056012     8.919067\n",
      "  8.70     7.907617     8.717321     9.584435\n",
      "  8.90     8.516115     9.377649    10.243455\n",
      "  9.10     9.143835    10.056438    10.914538\n",
      "  9.30     9.781788    10.744419    11.589023\n",
      "  9.50    10.428017    11.439438    12.265034\n",
      "  9.70    11.081363    12.140022    12.941636\n",
      "  9.90    11.742848    12.847341    13.619797\n",
      " 10.10    12.407007    13.555403    14.293890\n",
      " 10.30    13.076451    14.266705    14.966612\n",
      " 10.50    13.757995    14.988239    15.645461\n",
      " 10.70    14.449384    15.717645    16.328676\n",
      " 10.90    15.155487    16.459776    17.021311\n",
      " 11.10    15.888343    17.226749    17.735213\n",
      " 11.30    16.647379    18.017926    18.470374\n",
      " 11.50    17.394264    18.794532    19.190859\n",
      " 11.70    18.154387    19.582206    19.921249\n",
      " 11.90    18.963819    20.417351    20.696476\n",
      " 12.10    19.871751    21.354340    21.573115\n",
      " 12.30    20.888570    22.404073    22.561471\n",
      " 12.50    21.956562    23.503441    23.597911\n",
      " 12.70    23.082468    24.659194    24.689402\n",
      " 12.90    24.266205    25.871214    25.836326\n",
      " 13.10    25.518556    27.150326    27.049589\n",
      " 13.30    26.850905    28.508006    28.340461\n",
      " 13.50    28.271840    29.952864    29.717752\n",
      " 13.70    29.784564    31.488084    31.185100\n",
      " 13.90    31.402258    33.126881    32.755864\n",
      " 14.10    33.129790    34.874199    34.434903\n",
      " 14.30    34.972204    36.735073    36.227634\n",
      " 14.50    36.950555    38.730607    38.155227\n",
      " 14.70    39.064642    40.860633    40.217650\n",
      " 14.90    41.336150    43.146892    42.436657\n",
      " 15.10    43.774453    45.598788    44.821802\n",
      " 15.30    46.388840    48.225640    47.382546\n",
      " 15.50    49.203606    51.051825    50.143103\n",
      " 16.50    66.676005    68.566294    67.342898\n",
      " 17.50    91.595166    93.506082    91.993677\n",
      " 18.50   126.854116   128.768451   126.996139\n",
      " 19.50   176.167172   178.071390   176.069316\n",
      " 20.50   244.266606   246.150256   243.948032\n",
      " 21.50   336.701796   338.556978   336.182704\n",
      " 22.50   460.099148   461.920025   459.399741\n",
      " 23.50   621.981803   623.764201   621.121628\n",
      " 24.50   830.769951   832.511013   829.767486\n",
      " 25.50  1095.132200  1096.815199  1094.014506\n",
      " 26.50  1425.396329  1427.006892  1424.191666\n",
      " 27.50  1832.629435  1834.169219  1831.354944\n",
      " 28.50  2324.843664  2326.314744  2323.514379\n",
      " 29.50  2915.048482  2916.453215  2913.677513\n",
      " 30.50  3611.251570  3612.592492  3609.850295\n",
      " 31.00  3921.854431  3923.164430  3920.441776\n"
     ]
    },
    {
     "data": {
      "text/plain": [
       "0"
      ]
     },
     "execution_count": 4,
     "metadata": {},
     "output_type": "execute_result"
    }
   ],
   "source": [
    "# calculate the backgrounds for the list of percentiles at the given wavelength\n",
    "background4jwst.get_background4percentiles([10.0,50.0,90.0],lam4percentile=4.5)\n",
    "# write the table to the screen. The table is a panda table background4jwst.t\n",
    "background4jwst.write()"
   ]
  },
  {
   "cell_type": "code",
   "execution_count": 5,
   "metadata": {},
   "outputs": [
    {
     "name": "stdout",
     "output_type": "stream",
     "text": [
      "### Calculating percentile: 50\n",
      "day: 187\n",
      "(array([ 0.5 ,  0.6 ,  0.7 ,  0.8 ,  0.9 ,  1.  ,  1.1 ,  1.2 ,  1.3 ,\n",
      "        1.4 ,  1.5 ,  1.6 ,  1.7 ,  1.8 ,  1.9 ,  2.  ,  2.1 ,  2.2 ,\n",
      "        2.3 ,  2.4 ,  2.5 ,  2.6 ,  2.7 ,  2.8 ,  2.9 ,  3.  ,  3.1 ,\n",
      "        3.2 ,  3.3 ,  3.4 ,  3.5 ,  3.7 ,  4.  ,  4.25,  4.5 ,  4.75,\n",
      "        5.  ,  5.1 ,  5.2 ,  5.3 ,  5.4 ,  5.5 ,  5.7 ,  5.9 ,  6.1 ,\n",
      "        6.3 ,  6.5 ,  6.7 ,  6.9 ,  7.1 ,  7.3 ,  7.5 ,  7.7 ,  7.9 ,\n",
      "        8.1 ,  8.3 ,  8.5 ,  8.7 ,  8.9 ,  9.1 ,  9.3 ,  9.5 ,  9.7 ,\n",
      "        9.9 , 10.1 , 10.3 , 10.5 , 10.7 , 10.9 , 11.1 , 11.3 , 11.5 ,\n",
      "       11.7 , 11.9 , 12.1 , 12.3 , 12.5 , 12.7 , 12.9 , 13.1 , 13.3 ,\n",
      "       13.5 , 13.7 , 13.9 , 14.1 , 14.3 , 14.5 , 14.7 , 14.9 , 15.1 ,\n",
      "       15.3 , 15.5 , 16.5 , 17.5 , 18.5 , 19.5 , 20.5 , 21.5 , 22.5 ,\n",
      "       23.5 , 24.5 , 25.5 , 26.5 , 27.5 , 28.5 , 29.5 , 30.5 , 31.  ]), array([1.63818818e-01, 2.23047637e-01, 2.49227061e-01, 2.58590172e-01,\n",
      "       2.55935685e-01, 2.56980291e-01, 2.41856456e-01, 2.25215622e-01,\n",
      "       2.12245584e-01, 2.02981269e-01, 1.93702528e-01, 1.84666177e-01,\n",
      "       1.75983577e-01, 1.63048785e-01, 1.55371009e-01, 1.48140726e-01,\n",
      "       1.41814538e-01, 1.35915020e-01, 1.29062116e-01, 1.22761216e-01,\n",
      "       1.16895487e-01, 1.11495099e-01, 1.06498285e-01, 1.01888333e-01,\n",
      "       9.06942090e-02, 8.67279648e-02, 8.28422548e-02, 7.96013092e-02,\n",
      "       7.78906085e-02, 7.26826827e-02, 8.69415184e-02, 9.70226320e-02,\n",
      "       1.29653438e-01, 1.74225960e-01, 2.45397870e-01, 3.41917683e-01,\n",
      "       4.64157193e-01, 5.32061585e-01, 6.07250994e-01, 6.91526994e-01,\n",
      "       7.80946703e-01, 8.80133854e-01, 1.10605932e+00, 1.36109662e+00,\n",
      "       1.65911265e+00, 2.00588149e+00, 2.33693639e+00, 2.72001253e+00,\n",
      "       3.13802119e+00, 3.58277905e+00, 4.06065412e+00, 4.57432412e+00,\n",
      "       5.09985670e+00, 5.61514140e+00, 6.14123190e+00, 6.69422019e+00,\n",
      "       7.26690321e+00, 7.84180433e+00, 8.41196250e+00, 8.99963907e+00,\n",
      "       9.59512950e+00, 1.01966226e+01, 1.08032846e+01, 1.14161794e+01,\n",
      "       1.20295896e+01, 1.26466103e+01, 1.32750223e+01, 1.39123151e+01,\n",
      "       1.45639295e+01, 1.52434607e+01, 1.59499593e+01, 1.66400077e+01,\n",
      "       1.73421213e+01, 1.80963200e+01, 1.89466195e+01, 1.99026025e+01,\n",
      "       2.09096851e+01, 2.19747624e+01, 2.30972762e+01, 2.42883884e+01,\n",
      "       2.55604309e+01, 2.69220567e+01, 2.83759629e+01, 2.99354405e+01,\n",
      "       3.16059272e+01, 3.33920262e+01, 3.53149773e+01, 3.73745953e+01,\n",
      "       3.95928133e+01, 4.19789433e+01, 4.45421958e+01, 4.73074178e+01,\n",
      "       6.45483572e+01, 8.92664394e+01, 1.24354244e+02, 1.73524459e+02,\n",
      "       2.41507069e+02, 3.33848874e+02, 4.57173632e+02, 6.19001929e+02,\n",
      "       8.27751560e+02, 1.09211576e+03, 1.42242000e+03, 1.82970228e+03,\n",
      "       2.32197282e+03, 2.91223946e+03, 3.60850851e+03, 3.91914554e+03]))\n"
     ]
    }
   ],
   "source": [
    "# ... or call everything and get wavelength and background flux as a tuple of 2 np.arrays for the ETC input\n",
    "background = background4jwst.lambkg4ETC(50,target='EmptyERS')\n",
    "print(background)"
   ]
  },
  {
   "cell_type": "code",
   "execution_count": null,
   "metadata": {},
   "outputs": [],
   "source": [
    "\n",
    "\n",
    "\n",
    "\n",
    "\n",
    "\n",
    "\n"
   ]
  },
  {
   "cell_type": "code",
   "execution_count": 1,
   "metadata": {},
   "outputs": [
    {
     "name": "stdout",
     "output_type": "stream",
     "text": [
      "Initializing pandeia with nircam, sw_imaging\n",
      "{'nircam_sw_imaging': 0.08, 'nircam_lw_imaging': 0.16, 'niriss': 0.16, 'miri': 0.3}\n",
      "{'nircam_sw_imaging': (0.6, 0.99), 'nircam_lw_imaging': (0.6, 0.99), 'niriss': (0.6, 0.99), 'miri': (0.6, 0.99)}\n"
     ]
    }
   ],
   "source": [
    "from jwst_SNR import jwst_SNRclass\n",
    "import numpy as np\n",
    "jwst_SNR=jwst_SNRclass(instrument='nircam',mode='sw_imaging')\n",
    "print(jwst_SNR.aperture_radii)\n",
    "print(jwst_SNR.sky_annulii)"
   ]
  },
  {
   "cell_type": "code",
   "execution_count": 2,
   "metadata": {},
   "outputs": [
    {
     "name": "stdout",
     "output_type": "stream",
     "text": [
      "### Calculating percentile: 50\n",
      "day: 187\n"
     ]
    },
    {
     "data": {
      "text/plain": [
       "0"
      ]
     },
     "execution_count": 2,
     "metadata": {},
     "output_type": "execute_result"
    }
   ],
   "source": [
    "jwst_SNR.set_background4jwst(50,target='EmptyERS')\n"
   ]
  },
  {
   "cell_type": "code",
   "execution_count": 3,
   "metadata": {},
   "outputs": [
    {
     "name": "stderr",
     "output_type": "stream",
     "text": [
      "WARNING: Source spectrum will be extrapolated (at constant value for empirical model). [synphot.observation]\n"
     ]
    },
    {
     "name": "stdout",
     "output_type": "stream",
     "text": [
      "filter:F200W mag:28.00, target exptime:1200.0  == SNR=7.19 exptime=1245.5\n",
      "filter:F200W mag:28.50, target exptime:1200.0  == SNR=4.61 exptime=1245.5\n",
      "filter:F444W mag:28.00, target exptime:1200.0  == SNR=4.55 exptime=1245.5\n",
      "filter:F444W mag:28.50, target exptime:1200.0  == SNR=2.88 exptime=1245.5\n"
     ]
    }
   ],
   "source": [
    "jwst_SNR.verbose=2\n",
    "jwst_SNR.Imaging_SNR_table(['F200W','F444W'],np.arange(28.0,29.0,0.5),1200)"
   ]
  },
  {
   "cell_type": "code",
   "execution_count": 4,
   "metadata": {},
   "outputs": [
    {
     "name": "stdout",
     "output_type": "stream",
     "text": [
      "  mag F200W F444W\n",
      "28.00  7.19  4.55\n",
      "28.50  4.61  2.88\n"
     ]
    },
    {
     "data": {
      "text/plain": [
       "0"
      ]
     },
     "execution_count": 4,
     "metadata": {},
     "output_type": "execute_result"
    }
   ],
   "source": [
    "#jwst_SNR.SNR.t is panda table. \n",
    "jwst_SNR.SNR.write(formatters={'mag': '{:.2f}'.format, 'F200W': '{:.2f}'.format, 'F444W': '{:.2f}'.format})"
   ]
  },
  {
   "cell_type": "code",
   "execution_count": 5,
   "metadata": {},
   "outputs": [
    {
     "data": {
      "text/plain": [
       "0"
      ]
     },
     "execution_count": 5,
     "metadata": {},
     "output_type": "execute_result"
    }
   ],
   "source": [
    "jwst_SNR.SNR.write('delme.txt',formatters={'mag': '{:.2f}'.format, 'F200W': '{:.2f}'.format, 'F444W': '{:.2f}'.format})"
   ]
  },
  {
   "cell_type": "code",
   "execution_count": 6,
   "metadata": {},
   "outputs": [
    {
     "name": "stdout",
     "output_type": "stream",
     "text": [
      "#############################\n",
      "#### Filter F200W, mag 25.00\n",
      "#############################\n"
     ]
    },
    {
     "name": "stderr",
     "output_type": "stream",
     "text": [
      "WARNING: Source spectrum will be extrapolated (at constant value for empirical model). [synphot.observation]\n"
     ]
    },
    {
     "name": "stdout",
     "output_type": "stream",
     "text": [
      "filter:F200W mag:25.00, target exptime:1000.0  == SNR=66.25 exptime=1030.7\n",
      "SNR= 66.25 for starting texp=1030.7\n",
      "texp guess: 82.23187645766545\n",
      "filter:F200W mag:25.00, target exptime:86.0  == SNR=3.00 exptime=85.9\n",
      "SNR=  3.00 for next texp=  85.9\n",
      "SNR=  3.00 for texp=  85.9, SNR=7.00 wanted...\n",
      "filter:F200W mag:25.00, target exptime:171.8  == SNR=8.17 exptime=171.8\n",
      "SNR=  8.17>=7.00 for texp= 171.8!! SUCCESS!\n",
      "{'plus': (171.78832, 8.16720588116798), 'minus': (85.89416, 3.0049270050240544), 'best': (171.78832, 8.16720588116798)}\n"
     ]
    }
   ],
   "source": [
    "# SNR0 is the desired SNR. results is a dictionary with 3 keys: 'plus', 'minus' and 'best'. \n",
    "# 'plus' contains the (texpplus,SNRplus) with SNR>=SNR0\n",
    "# 'minus' contains the (texpminus,SNRminus) with SNR<SNR0\n",
    "# if the lowest or highest exptime is hit, then they are set to (None,None) accordingly\n",
    "# 'best' contains the  (texpbest,SNRbest) for the following criteria:\n",
    "# - if SNRminus is closer to SNR0 than SNRplus (or SNRplus==None), AND if (SNR0-SNRminus)/SNR0<SNR_tolerance_in_percent/100.0 (i.e. if the SNRminus is within the tolerance), then best is set to minus\n",
    "# - otherwise best=plus \n",
    "# find the exposure time for which a point source has a SNR=7 at mag=25 in F200W\n",
    "results=jwst_SNR.texp4SNRatmag('F200W',25.0,7)\n",
    "print(results)"
   ]
  },
  {
   "cell_type": "code",
   "execution_count": 8,
   "metadata": {},
   "outputs": [
    {
     "name": "stdout",
     "output_type": "stream",
     "text": [
      "#############################\n",
      "#### Filter F200W, mag 22.00\n",
      "#############################\n",
      "filter:F200W mag:22.00, target exptime:1000.0  == SNR=323.40 exptime=1030.7\n",
      "SNR=323.40 for starting texp=1030.7\n",
      "texp guess: 13.817345308227043\n",
      "filter:F200W mag:22.00, target exptime:86.0  == SNR=41.38 exptime=85.9\n",
      "SNR= 41.38 for next texp=  85.9\n",
      "SNR= 41.387.00 for texp=  85.9, checking the next lower exptime...\n",
      "Warning: could not find an exposure time that is short enough to be below SNR=7.00, thus keeping texp=85.9 and SNR=41.38\n",
      "{'plus': (85.89416, 41.38138345070972), 'minus': (None, None), 'best': (85.89416, 41.38138345070972)}\n"
     ]
    }
   ],
   "source": [
    "# hitting the lowest exposure times: keeping the lowest exposure time in 'plus' and 'best'\n",
    "results=jwst_SNR.texp4SNRatmag('F200W',22.0,7)\n",
    "print(results)"
   ]
  },
  {
   "cell_type": "code",
   "execution_count": 9,
   "metadata": {},
   "outputs": [
    {
     "name": "stdout",
     "output_type": "stream",
     "text": [
      "#############################\n",
      "#### Filter F200W, mag 28.00\n",
      "#############################\n",
      "filter:F200W mag:28.00, target exptime:1000.0  == SNR=5.98 exptime=1030.7\n",
      "SNR=  5.98 for starting texp=1030.7\n",
      "texp guess: 4011.690365964885\n",
      "filter:F200W mag:28.00, target exptime:4208.8  == SNR=16.74 exptime=4208.8\n",
      "SNR= 16.74 for next texp=4208.8\n",
      "SNR= 16.74 for texp=4208.8, SNR=20.00 wanted...\n",
      "Warning: could not find an exposure time that is long enough to reach SNR=20.00, only 16.74\n",
      "BBB 0.16318038246027414 0.15\n",
      "tolerance 15% {'plus': (None, None), 'minus': (4208.81384, 16.736392350794517), 'best': (None, None)}\n"
     ]
    }
   ],
   "source": [
    "# Note: SNR=16.73 is about 16% different than the target SNR=20. Thus for tolerance=15%, best is None\n",
    "results=jwst_SNR.texp4SNRatmag('F200W',28.0,20,SNR_tolerance_in_percent=15)\n",
    "print('tolerance 15%',results)"
   ]
  },
  {
   "cell_type": "code",
   "execution_count": 10,
   "metadata": {},
   "outputs": [
    {
     "name": "stdout",
     "output_type": "stream",
     "text": [
      "#############################\n",
      "#### Filter F200W, mag 28.00\n",
      "#############################\n",
      "filter:F200W mag:28.00, target exptime:1000.0  == SNR=5.98 exptime=1030.7\n",
      "SNR=  5.98 for starting texp=1030.7\n",
      "texp guess: 4011.690365964885\n",
      "filter:F200W mag:28.00, target exptime:4208.8  == SNR=16.74 exptime=4208.8\n",
      "SNR= 16.74 for next texp=4208.8\n",
      "SNR= 16.74 for texp=4208.8, SNR=20.00 wanted...\n",
      "Warning: could not find an exposure time that is long enough to reach SNR=20.00, only 16.74\n",
      "BBB 0.16318038246027414 0.17\n",
      "tolerance 17% {'plus': (None, None), 'minus': (4208.81384, 16.736392350794517), 'best': (4208.81384, 16.736392350794517)}\n"
     ]
    }
   ],
   "source": [
    "# Note: SNR=16.73 is about 16% different than the target SNR=20. Thus for tolerance=17%, best is minus\n",
    "results=jwst_SNR.texp4SNRatmag('F200W',28.0,20,SNR_tolerance_in_percent=17)\n",
    "print('tolerance 17%',results)"
   ]
  },
  {
   "cell_type": "code",
   "execution_count": 11,
   "metadata": {},
   "outputs": [
    {
     "name": "stdout",
     "output_type": "stream",
     "text": [
      "#############################\n",
      "#### Filter F200W, mag 28.00\n",
      "#############################\n",
      "filter:F200W mag:28.00, target exptime:1000.0  == SNR=5.98 exptime=1030.7\n",
      "SNR=  5.98 for starting texp=1030.7\n",
      "texp guess: 1231.4136274713294\n",
      "filter:F200W mag:28.00, target exptime:1245.6  == SNR=7.19 exptime=1245.5\n",
      "SNR=  7.19 for next texp=1245.5\n",
      "SNR=  7.197.00 for texp=1245.5, checking the next lower exptime...\n",
      "filter:F200W mag:28.00, target exptime:1030.8  == SNR=5.98 exptime=1030.7\n",
      "SNR=  7.19>=7.00 for texp=1245.5, and SNR=5.98<7.00 for texp=1030.7!! SUCCESS!\n",
      "tolerance 17% {'plus': (1245.46532, 7.191250553310056), 'minus': (1030.72992, 5.976175034291349), 'best': (1245.46532, 7.191250553310056)}\n"
     ]
    }
   ],
   "source": [
    "results=jwst_SNR.texp4SNRatmag('F200W',28.0,7,SNR_tolerance_in_percent=10)\n",
    "print('tolerance 17%',results)"
   ]
  },
  {
   "cell_type": "code",
   "execution_count": null,
   "metadata": {},
   "outputs": [],
   "source": []
  }
 ],
 "metadata": {
  "kernelspec": {
   "display_name": "Python 3",
   "language": "python",
   "name": "python3"
  },
  "language_info": {
   "codemirror_mode": {
    "name": "ipython",
    "version": 3
   },
   "file_extension": ".py",
   "mimetype": "text/x-python",
   "name": "python",
   "nbconvert_exporter": "python",
   "pygments_lexer": "ipython3",
   "version": "3.6.10"
  }
 },
 "nbformat": 4,
 "nbformat_minor": 4
}
