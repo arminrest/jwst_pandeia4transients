{
 "cells": [
  {
   "cell_type": "code",
   "execution_count": 1,
   "metadata": {},
   "outputs": [],
   "source": [
    "from jwst_SNR import jwst_SNRclass\n",
    "import numpy as np\n",
    "from nirspec_sn import *\n",
    "%matplotlib notebook"
   ]
  },
  {
   "cell_type": "code",
   "execution_count": 2,
   "metadata": {},
   "outputs": [
    {
     "name": "stdout",
     "output_type": "stream",
     "text": [
      "{'ElGordo': ('01 02 55.2', '-49 14 29.3'), 'EmptyERS': ('03 32 42.397', '-27 42 7.93'), 'NEP-TDF': ('17:22:47.896', '+65:49:21.54'), 'NEP-DF': ('17:40:08.00', '+69:00:08.00'), 'CDF-S': ('03:32:28.0', '−27:48:30')}\n",
      "Calculating background for position ElGordo (15.730000,-49.241472)\n"
     ]
    }
   ],
   "source": [
    "from background4jwst import background4jwstclass\n",
    "background4jwst=background4jwstclass()\n",
    "    \n",
    "# set the position for which the background will be calculated. set_position_by_target uses \n",
    "# pre-defined positions, set_position can be used to set any position\n",
    "print(background4jwst.defaulttargets)\n",
    "background4jwst.set_position_by_target('ElGordo')\n",
    "# alternatively, background4jwst.set_position('01 02 55.2','-49 14 29.3','ElGordo')\n",
    "# Get the background from pandeia for this position\n",
    "# optional parameters: lam, thresh\n",
    "background4jwst.calc_background()"
   ]
  },
  {
   "cell_type": "code",
   "execution_count": 3,
   "metadata": {},
   "outputs": [
    {
     "name": "stdout",
     "output_type": "stream",
     "text": [
      "Initializing pandeia with nirspec, None\n",
      "Initializing nirspec fixed_slit\n",
      "Calculating background for position EmptyERS (53.176654,-27.702203)\n",
      "### Calculating percentile: 50\n",
      "day: 187\n"
     ]
    },
    {
     "data": {
      "text/plain": [
       "0"
      ]
     },
     "execution_count": 3,
     "metadata": {},
     "output_type": "execute_result"
    }
   ],
   "source": [
    "jwst_SNR=jwst_SNRclass(instrument='nirspec')\n",
    "#jwst_SNR=jwst_SNRclass(instrument='nircam')\n",
    "\n",
    "jwst_SNR.set_background4jwst(50,target='EmptyERS')"
   ]
  },
  {
   "cell_type": "code",
   "execution_count": 9,
   "metadata": {},
   "outputs": [
    {
     "name": "stdout",
     "output_type": "stream",
     "text": [
      "Warning, 26 of 4762 bins contained negative fluxes; they have been set to zero.\n"
     ]
    }
   ],
   "source": [
    "from astropy.io import ascii\n",
    "\n",
    "file = './data/siebert_phase_binned_2day_N=99_Nspec=153_phase=p0.95_dm15=1.15_z=0.014.txt'\n",
    "data = ascii.read(file)  \n",
    "df = data.to_pandas()\n",
    "snia = S.ArraySpectrum(df['Wavelength'].values,df['Flux'].values,waveunits='angstrom',\n",
    "               fluxunits='flam')\n",
    "snia = snia.redshift(4)"
   ]
  },
  {
   "cell_type": "code",
   "execution_count": 5,
   "metadata": {
    "scrolled": false
   },
   "outputs": [
    {
     "name": "stdout",
     "output_type": "stream",
     "text": [
      "#############################\n",
      "#### Filter F200W, mag 24.00 for S/N=5 \n",
      "#############################\n",
      "reference spec\n",
      "Ehu  {'readout_pattern': 'nrsirs2rapid', 'NGROUP': 16, 'NINT': 1, 'tint': 233.4, 'NEXP': 4, 'texp': 933.7}\n"
     ]
    },
    {
     "name": "stderr",
     "output_type": "stream",
     "text": [
      "WARNING: Source spectrum will be extrapolated (at constant value for empirical model). [synphot.observation]\n",
      "WARNING: nan_treatment='interpolate', however, NaN values detected post convolution. A contiguous region of NaN values, larger than the kernel size, are present in the input array. Increase the kernel size to avoid this. [astropy.convolution.convolve]\n"
     ]
    },
    {
     "name": "stdout",
     "output_type": "stream",
     "text": [
      "total texp  992.0445199999999\n",
      "filter:F200W mag:24.00, target exptime:1000.0  == SNR=13.20 exptime=992.0\n",
      "SNR= 13.20 for starting texp= 992.0\n",
      "texp guess: 142.3\n",
      "reference spec\n",
      "Ehu  {'readout_pattern': 'nrsirs2rapid', 'NGROUP': 4, 'NINT': 1, 'tint': 58.4, 'NEXP': 4, 'texp': 233.4}\n"
     ]
    },
    {
     "name": "stderr",
     "output_type": "stream",
     "text": [
      "WARNING: Source spectrum will be extrapolated (at constant value for empirical model). [synphot.observation]\n",
      "WARNING: nan_treatment='interpolate', however, NaN values detected post convolution. A contiguous region of NaN values, larger than the kernel size, are present in the input array. Increase the kernel size to avoid this. [astropy.convolution.convolve]\n"
     ]
    },
    {
     "name": "stdout",
     "output_type": "stream",
     "text": [
      "total texp  291.77779999999996\n",
      "filter:F200W mag:24.00, target exptime:233.4  == SNR=2.68 exptime=291.8\n",
      "SNR=  2.68 for next texp= 291.8\n",
      "SNR=  2.68<5.00 for texp= 291.8, checking the next larger exptime...\n",
      "reference spec\n",
      "Ehu  {'readout_pattern': 'nrsirs2rapid', 'NGROUP': 8, 'NINT': 1, 'tint': 116.7, 'NEXP': 4, 'texp': 466.8}\n"
     ]
    },
    {
     "name": "stderr",
     "output_type": "stream",
     "text": [
      "WARNING: Source spectrum will be extrapolated (at constant value for empirical model). [synphot.observation]\n",
      "WARNING: nan_treatment='interpolate', however, NaN values detected post convolution. A contiguous region of NaN values, larger than the kernel size, are present in the input array. Increase the kernel size to avoid this. [astropy.convolution.convolve]\n"
     ]
    },
    {
     "name": "stdout",
     "output_type": "stream",
     "text": [
      "total texp  525.20004\n",
      "filter:F200W mag:24.00, target exptime:466.8  == SNR=6.58 exptime=525.2\n",
      "SNR=  6.58>=5.00 for texp= 525.2!! SUCCESS!\n",
      "#############################\n",
      "#### Filter F200W, mag 24.20 for S/N=5 \n",
      "#############################\n",
      "reference spec\n",
      "Ehu  {'readout_pattern': 'nrsirs2rapid', 'NGROUP': 16, 'NINT': 1, 'tint': 233.4, 'NEXP': 4, 'texp': 933.7}\n"
     ]
    },
    {
     "name": "stderr",
     "output_type": "stream",
     "text": [
      "WARNING: Source spectrum will be extrapolated (at constant value for empirical model). [synphot.observation]\n",
      "WARNING: nan_treatment='interpolate', however, NaN values detected post convolution. A contiguous region of NaN values, larger than the kernel size, are present in the input array. Increase the kernel size to avoid this. [astropy.convolution.convolve]\n"
     ]
    },
    {
     "name": "stdout",
     "output_type": "stream",
     "text": [
      "total texp  992.0445199999999\n",
      "filter:F200W mag:24.20, target exptime:1000.0  == SNR=11.31 exptime=992.0\n",
      "SNR= 11.31 for starting texp= 992.0\n",
      "texp guess: 194.0\n",
      "reference spec\n",
      "Ehu  {'readout_pattern': 'nrsirs2rapid', 'NGROUP': 4, 'NINT': 1, 'tint': 58.4, 'NEXP': 4, 'texp': 233.4}\n"
     ]
    },
    {
     "name": "stderr",
     "output_type": "stream",
     "text": [
      "WARNING: Source spectrum will be extrapolated (at constant value for empirical model). [synphot.observation]\n",
      "WARNING: nan_treatment='interpolate', however, NaN values detected post convolution. A contiguous region of NaN values, larger than the kernel size, are present in the input array. Increase the kernel size to avoid this. [astropy.convolution.convolve]\n"
     ]
    },
    {
     "name": "stdout",
     "output_type": "stream",
     "text": [
      "total texp  291.77779999999996\n",
      "filter:F200W mag:24.20, target exptime:233.4  == SNR=2.24 exptime=291.8\n",
      "SNR=  2.24 for next texp= 291.8\n",
      "SNR=  2.24<5.00 for texp= 291.8, checking the next larger exptime...\n",
      "reference spec\n",
      "Ehu  {'readout_pattern': 'nrsirs2rapid', 'NGROUP': 8, 'NINT': 1, 'tint': 116.7, 'NEXP': 4, 'texp': 466.8}\n"
     ]
    },
    {
     "name": "stderr",
     "output_type": "stream",
     "text": [
      "WARNING: Source spectrum will be extrapolated (at constant value for empirical model). [synphot.observation]\n",
      "WARNING: nan_treatment='interpolate', however, NaN values detected post convolution. A contiguous region of NaN values, larger than the kernel size, are present in the input array. Increase the kernel size to avoid this. [astropy.convolution.convolve]\n"
     ]
    },
    {
     "name": "stdout",
     "output_type": "stream",
     "text": [
      "total texp  525.20004\n",
      "filter:F200W mag:24.20, target exptime:466.8  == SNR=5.55 exptime=525.2\n",
      "SNR=  5.55>=5.00 for texp= 525.2!! SUCCESS!\n",
      "#############################\n",
      "#### Filter F200W, mag 24.40 for S/N=5 \n",
      "#############################\n",
      "reference spec\n",
      "Ehu  {'readout_pattern': 'nrsirs2rapid', 'NGROUP': 16, 'NINT': 1, 'tint': 233.4, 'NEXP': 4, 'texp': 933.7}\n"
     ]
    },
    {
     "name": "stderr",
     "output_type": "stream",
     "text": [
      "WARNING: Source spectrum will be extrapolated (at constant value for empirical model). [synphot.observation]\n",
      "WARNING: nan_treatment='interpolate', however, NaN values detected post convolution. A contiguous region of NaN values, larger than the kernel size, are present in the input array. Increase the kernel size to avoid this. [astropy.convolution.convolve]\n"
     ]
    },
    {
     "name": "stdout",
     "output_type": "stream",
     "text": [
      "total texp  992.0445199999999\n",
      "filter:F200W mag:24.40, target exptime:1000.0  == SNR=9.65 exptime=992.0\n",
      "SNR=  9.65 for starting texp= 992.0\n",
      "texp guess: 266.4\n",
      "reference spec\n",
      "Ehu  {'readout_pattern': 'nrsirs2rapid', 'NGROUP': 8, 'NINT': 1, 'tint': 116.7, 'NEXP': 4, 'texp': 466.8}\n"
     ]
    },
    {
     "name": "stderr",
     "output_type": "stream",
     "text": [
      "WARNING: Source spectrum will be extrapolated (at constant value for empirical model). [synphot.observation]\n",
      "WARNING: nan_treatment='interpolate', however, NaN values detected post convolution. A contiguous region of NaN values, larger than the kernel size, are present in the input array. Increase the kernel size to avoid this. [astropy.convolution.convolve]\n"
     ]
    },
    {
     "name": "stdout",
     "output_type": "stream",
     "text": [
      "total texp  525.20004\n",
      "filter:F200W mag:24.40, target exptime:466.8  == SNR=4.68 exptime=525.2\n",
      "SNR=  4.68 for next texp= 525.2\n",
      "SNR=  4.68<5.00 for texp= 525.2, checking the next larger exptime...\n",
      "reference spec\n",
      "Ehu  {'readout_pattern': 'nrsirs2rapid', 'NGROUP': 12, 'NINT': 1, 'tint': 175.1, 'NEXP': 4, 'texp': 700.3}\n"
     ]
    },
    {
     "name": "stderr",
     "output_type": "stream",
     "text": [
      "WARNING: Source spectrum will be extrapolated (at constant value for empirical model). [synphot.observation]\n",
      "WARNING: nan_treatment='interpolate', however, NaN values detected post convolution. A contiguous region of NaN values, larger than the kernel size, are present in the input array. Increase the kernel size to avoid this. [astropy.convolution.convolve]\n"
     ]
    },
    {
     "name": "stdout",
     "output_type": "stream",
     "text": [
      "total texp  758.6222799999999\n",
      "filter:F200W mag:24.40, target exptime:700.3  == SNR=7.33 exptime=758.6\n",
      "SNR=  7.33>=5.00 for texp= 758.6!! SUCCESS!\n",
      "#############################\n",
      "#### Filter F200W, mag 24.60 for S/N=5 \n",
      "#############################\n",
      "reference spec\n",
      "Ehu  {'readout_pattern': 'nrsirs2rapid', 'NGROUP': 16, 'NINT': 1, 'tint': 233.4, 'NEXP': 4, 'texp': 933.7}\n"
     ]
    },
    {
     "name": "stderr",
     "output_type": "stream",
     "text": [
      "WARNING: Source spectrum will be extrapolated (at constant value for empirical model). [synphot.observation]\n",
      "WARNING: nan_treatment='interpolate', however, NaN values detected post convolution. A contiguous region of NaN values, larger than the kernel size, are present in the input array. Increase the kernel size to avoid this. [astropy.convolution.convolve]\n"
     ]
    },
    {
     "name": "stdout",
     "output_type": "stream",
     "text": [
      "total texp  992.0445199999999\n",
      "filter:F200W mag:24.60, target exptime:1000.0  == SNR=8.21 exptime=992.0\n",
      "SNR=  8.21 for starting texp= 992.0\n",
      "texp guess: 368.0\n",
      "reference spec\n",
      "Ehu  {'readout_pattern': 'nrsirs2rapid', 'NGROUP': 8, 'NINT': 1, 'tint': 116.7, 'NEXP': 4, 'texp': 466.8}\n"
     ]
    },
    {
     "name": "stderr",
     "output_type": "stream",
     "text": [
      "WARNING: Source spectrum will be extrapolated (at constant value for empirical model). [synphot.observation]\n",
      "WARNING: nan_treatment='interpolate', however, NaN values detected post convolution. A contiguous region of NaN values, larger than the kernel size, are present in the input array. Increase the kernel size to avoid this. [astropy.convolution.convolve]\n"
     ]
    },
    {
     "name": "stdout",
     "output_type": "stream",
     "text": [
      "total texp  525.20004\n",
      "filter:F200W mag:24.60, target exptime:466.8  == SNR=3.93 exptime=525.2\n",
      "SNR=  3.93 for next texp= 525.2\n",
      "SNR=  3.93<5.00 for texp= 525.2, checking the next larger exptime...\n",
      "reference spec\n",
      "Ehu  {'readout_pattern': 'nrsirs2rapid', 'NGROUP': 12, 'NINT': 1, 'tint': 175.1, 'NEXP': 4, 'texp': 700.3}\n"
     ]
    },
    {
     "name": "stderr",
     "output_type": "stream",
     "text": [
      "WARNING: Source spectrum will be extrapolated (at constant value for empirical model). [synphot.observation]\n",
      "WARNING: nan_treatment='interpolate', however, NaN values detected post convolution. A contiguous region of NaN values, larger than the kernel size, are present in the input array. Increase the kernel size to avoid this. [astropy.convolution.convolve]\n"
     ]
    },
    {
     "name": "stdout",
     "output_type": "stream",
     "text": [
      "total texp  758.6222799999999\n",
      "filter:F200W mag:24.60, target exptime:700.3  == SNR=6.20 exptime=758.6\n",
      "SNR=  6.20>=5.00 for texp= 758.6!! SUCCESS!\n",
      "#############################\n",
      "#### Filter F200W, mag 24.80 for S/N=5 \n",
      "#############################\n",
      "reference spec\n",
      "Ehu  {'readout_pattern': 'nrsirs2rapid', 'NGROUP': 16, 'NINT': 1, 'tint': 233.4, 'NEXP': 4, 'texp': 933.7}\n"
     ]
    },
    {
     "name": "stderr",
     "output_type": "stream",
     "text": [
      "WARNING: Source spectrum will be extrapolated (at constant value for empirical model). [synphot.observation]\n",
      "WARNING: nan_treatment='interpolate', however, NaN values detected post convolution. A contiguous region of NaN values, larger than the kernel size, are present in the input array. Increase the kernel size to avoid this. [astropy.convolution.convolve]\n"
     ]
    },
    {
     "name": "stdout",
     "output_type": "stream",
     "text": [
      "total texp  992.0445199999999\n",
      "filter:F200W mag:24.80, target exptime:1000.0  == SNR=6.96 exptime=992.0\n",
      "SNR=  6.96 for starting texp= 992.0\n",
      "texp guess: 511.4\n",
      "reference spec\n",
      "Ehu  {'readout_pattern': 'nrsirs2rapid', 'NGROUP': 12, 'NINT': 1, 'tint': 175.1, 'NEXP': 4, 'texp': 700.3}\n"
     ]
    },
    {
     "name": "stderr",
     "output_type": "stream",
     "text": [
      "WARNING: Source spectrum will be extrapolated (at constant value for empirical model). [synphot.observation]\n",
      "WARNING: nan_treatment='interpolate', however, NaN values detected post convolution. A contiguous region of NaN values, larger than the kernel size, are present in the input array. Increase the kernel size to avoid this. [astropy.convolution.convolve]\n"
     ]
    },
    {
     "name": "stdout",
     "output_type": "stream",
     "text": [
      "total texp  758.6222799999999\n",
      "filter:F200W mag:24.80, target exptime:700.3  == SNR=5.24 exptime=758.6\n",
      "SNR=  5.24 for next texp= 758.6\n",
      "SNR=  5.24>5.00 for texp= 758.6, checking the next lower exptime...\n",
      "BLEH  700.3\n",
      "reference spec\n",
      "Ehu  {'readout_pattern': 'nrsirs2rapid', 'NGROUP': 12, 'NINT': 1, 'tint': 175.1, 'NEXP': 4, 'texp': 700.3}\n"
     ]
    },
    {
     "name": "stderr",
     "output_type": "stream",
     "text": [
      "WARNING: Source spectrum will be extrapolated (at constant value for empirical model). [synphot.observation]\n",
      "WARNING: nan_treatment='interpolate', however, NaN values detected post convolution. A contiguous region of NaN values, larger than the kernel size, are present in the input array. Increase the kernel size to avoid this. [astropy.convolution.convolve]\n"
     ]
    },
    {
     "name": "stdout",
     "output_type": "stream",
     "text": [
      "total texp  758.6222799999999\n",
      "filter:F200W mag:24.80, target exptime:700.3  == SNR=5.24 exptime=758.6\n",
      "SNR=  5.24>5.00 for texp= 758.6, checking the next lower exptime...\n",
      "BLEH  700.3\n",
      "reference spec\n",
      "Ehu  {'readout_pattern': 'nrsirs2rapid', 'NGROUP': 12, 'NINT': 1, 'tint': 175.1, 'NEXP': 4, 'texp': 700.3}\n"
     ]
    },
    {
     "name": "stderr",
     "output_type": "stream",
     "text": [
      "WARNING: Source spectrum will be extrapolated (at constant value for empirical model). [synphot.observation]\n",
      "WARNING: nan_treatment='interpolate', however, NaN values detected post convolution. A contiguous region of NaN values, larger than the kernel size, are present in the input array. Increase the kernel size to avoid this. [astropy.convolution.convolve]\n"
     ]
    },
    {
     "name": "stdout",
     "output_type": "stream",
     "text": [
      "total texp  758.6222799999999\n",
      "filter:F200W mag:24.80, target exptime:700.3  == SNR=5.24 exptime=758.6\n",
      "SNR=  5.24>5.00 for texp= 758.6, checking the next lower exptime...\n",
      "BLEH  700.3\n",
      "reference spec\n",
      "Ehu  {'readout_pattern': 'nrsirs2rapid', 'NGROUP': 12, 'NINT': 1, 'tint': 175.1, 'NEXP': 4, 'texp': 700.3}\n"
     ]
    },
    {
     "name": "stderr",
     "output_type": "stream",
     "text": [
      "WARNING: Source spectrum will be extrapolated (at constant value for empirical model). [synphot.observation]\n",
      "WARNING: nan_treatment='interpolate', however, NaN values detected post convolution. A contiguous region of NaN values, larger than the kernel size, are present in the input array. Increase the kernel size to avoid this. [astropy.convolution.convolve]\n"
     ]
    },
    {
     "name": "stdout",
     "output_type": "stream",
     "text": [
      "total texp  758.6222799999999\n",
      "filter:F200W mag:24.80, target exptime:700.3  == SNR=5.24 exptime=758.6\n",
      "SNR=  5.24>5.00 for texp= 758.6, checking the next lower exptime...\n",
      "BLEH  700.3\n",
      "reference spec\n",
      "Ehu  {'readout_pattern': 'nrsirs2rapid', 'NGROUP': 12, 'NINT': 1, 'tint': 175.1, 'NEXP': 4, 'texp': 700.3}\n"
     ]
    },
    {
     "name": "stderr",
     "output_type": "stream",
     "text": [
      "WARNING: Source spectrum will be extrapolated (at constant value for empirical model). [synphot.observation]\n",
      "WARNING: nan_treatment='interpolate', however, NaN values detected post convolution. A contiguous region of NaN values, larger than the kernel size, are present in the input array. Increase the kernel size to avoid this. [astropy.convolution.convolve]\n"
     ]
    },
    {
     "name": "stdout",
     "output_type": "stream",
     "text": [
      "total texp  758.6222799999999\n",
      "filter:F200W mag:24.80, target exptime:700.3  == SNR=5.24 exptime=758.6\n",
      "SNR=  5.24>5.00 for texp= 758.6, checking the next lower exptime...\n",
      "BLEH  700.3\n",
      "reference spec\n",
      "Ehu  {'readout_pattern': 'nrsirs2rapid', 'NGROUP': 12, 'NINT': 1, 'tint': 175.1, 'NEXP': 4, 'texp': 700.3}\n"
     ]
    },
    {
     "name": "stderr",
     "output_type": "stream",
     "text": [
      "WARNING: Source spectrum will be extrapolated (at constant value for empirical model). [synphot.observation]\n",
      "WARNING: nan_treatment='interpolate', however, NaN values detected post convolution. A contiguous region of NaN values, larger than the kernel size, are present in the input array. Increase the kernel size to avoid this. [astropy.convolution.convolve]\n"
     ]
    },
    {
     "name": "stdout",
     "output_type": "stream",
     "text": [
      "total texp  758.6222799999999\n",
      "filter:F200W mag:24.80, target exptime:700.3  == SNR=5.24 exptime=758.6\n",
      "SNR=  5.24>5.00 for texp= 758.6, checking the next lower exptime...\n",
      "BLEH  700.3\n",
      "reference spec\n",
      "Ehu  {'readout_pattern': 'nrsirs2rapid', 'NGROUP': 12, 'NINT': 1, 'tint': 175.1, 'NEXP': 4, 'texp': 700.3}\n"
     ]
    },
    {
     "name": "stderr",
     "output_type": "stream",
     "text": [
      "WARNING: Source spectrum will be extrapolated (at constant value for empirical model). [synphot.observation]\n",
      "WARNING: nan_treatment='interpolate', however, NaN values detected post convolution. A contiguous region of NaN values, larger than the kernel size, are present in the input array. Increase the kernel size to avoid this. [astropy.convolution.convolve]\n"
     ]
    },
    {
     "name": "stdout",
     "output_type": "stream",
     "text": [
      "total texp  758.6222799999999\n",
      "filter:F200W mag:24.80, target exptime:700.3  == SNR=5.24 exptime=758.6\n",
      "SNR=  5.24>5.00 for texp= 758.6, checking the next lower exptime...\n",
      "BLEH  700.3\n",
      "reference spec\n",
      "Ehu  {'readout_pattern': 'nrsirs2rapid', 'NGROUP': 12, 'NINT': 1, 'tint': 175.1, 'NEXP': 4, 'texp': 700.3}\n"
     ]
    },
    {
     "name": "stderr",
     "output_type": "stream",
     "text": [
      "WARNING: Source spectrum will be extrapolated (at constant value for empirical model). [synphot.observation]\n",
      "WARNING: nan_treatment='interpolate', however, NaN values detected post convolution. A contiguous region of NaN values, larger than the kernel size, are present in the input array. Increase the kernel size to avoid this. [astropy.convolution.convolve]\n"
     ]
    },
    {
     "name": "stdout",
     "output_type": "stream",
     "text": [
      "total texp  758.6222799999999\n",
      "filter:F200W mag:24.80, target exptime:700.3  == SNR=5.24 exptime=758.6\n",
      "SNR=  5.24>5.00 for texp= 758.6, checking the next lower exptime...\n",
      "BLEH  700.3\n",
      "reference spec\n",
      "Ehu  {'readout_pattern': 'nrsirs2rapid', 'NGROUP': 12, 'NINT': 1, 'tint': 175.1, 'NEXP': 4, 'texp': 700.3}\n"
     ]
    },
    {
     "name": "stderr",
     "output_type": "stream",
     "text": [
      "WARNING: Source spectrum will be extrapolated (at constant value for empirical model). [synphot.observation]\n",
      "WARNING: nan_treatment='interpolate', however, NaN values detected post convolution. A contiguous region of NaN values, larger than the kernel size, are present in the input array. Increase the kernel size to avoid this. [astropy.convolution.convolve]\n"
     ]
    },
    {
     "name": "stdout",
     "output_type": "stream",
     "text": [
      "total texp  758.6222799999999\n",
      "filter:F200W mag:24.80, target exptime:700.3  == SNR=5.24 exptime=758.6\n",
      "SNR=  5.24>5.00 for texp= 758.6, checking the next lower exptime...\n",
      "BLEH  700.3\n",
      "reference spec\n",
      "Ehu  {'readout_pattern': 'nrsirs2rapid', 'NGROUP': 12, 'NINT': 1, 'tint': 175.1, 'NEXP': 4, 'texp': 700.3}\n"
     ]
    },
    {
     "name": "stderr",
     "output_type": "stream",
     "text": [
      "WARNING: Source spectrum will be extrapolated (at constant value for empirical model). [synphot.observation]\n",
      "WARNING: nan_treatment='interpolate', however, NaN values detected post convolution. A contiguous region of NaN values, larger than the kernel size, are present in the input array. Increase the kernel size to avoid this. [astropy.convolution.convolve]\n"
     ]
    },
    {
     "ename": "KeyboardInterrupt",
     "evalue": "",
     "output_type": "error",
     "traceback": [
      "\u001b[0;31m---------------------------------------------------------------------------\u001b[0m",
      "\u001b[0;31mKeyboardInterrupt\u001b[0m                         Traceback (most recent call last)",
      "\u001b[0;32m<ipython-input-5-d8accb4094bd>\u001b[0m in \u001b[0;36m<module>\u001b[0;34m\u001b[0m\n\u001b[1;32m      1\u001b[0m \u001b[0mjwst_SNR\u001b[0m\u001b[0;34m.\u001b[0m\u001b[0mverbose\u001b[0m\u001b[0;34m=\u001b[0m\u001b[0;36m2\u001b[0m\u001b[0;34m\u001b[0m\u001b[0;34m\u001b[0m\u001b[0m\n\u001b[0;32m----> 2\u001b[0;31m \u001b[0mjwst_SNR\u001b[0m\u001b[0;34m.\u001b[0m\u001b[0mImaging_texp_table\u001b[0m\u001b[0;34m(\u001b[0m\u001b[0;34m[\u001b[0m\u001b[0;34m'F200W'\u001b[0m\u001b[0;34m]\u001b[0m\u001b[0;34m,\u001b[0m\u001b[0mnp\u001b[0m\u001b[0;34m.\u001b[0m\u001b[0marange\u001b[0m\u001b[0;34m(\u001b[0m\u001b[0;36m24.0\u001b[0m\u001b[0;34m,\u001b[0m\u001b[0;36m30.0\u001b[0m\u001b[0;34m,\u001b[0m\u001b[0;36m0.2\u001b[0m\u001b[0;34m)\u001b[0m\u001b[0;34m,\u001b[0m\u001b[0;36m5\u001b[0m\u001b[0;34m,\u001b[0m\u001b[0mspec\u001b[0m\u001b[0;34m=\u001b[0m\u001b[0msnia\u001b[0m\u001b[0;34m,\u001b[0m\u001b[0mwave\u001b[0m\u001b[0;34m=\u001b[0m\u001b[0;36m2\u001b[0m\u001b[0;34m,\u001b[0m\u001b[0mwidth\u001b[0m\u001b[0;34m=\u001b[0m\u001b[0;36m.5\u001b[0m\u001b[0;34m)\u001b[0m\u001b[0;34m\u001b[0m\u001b[0;34m\u001b[0m\u001b[0m\n\u001b[0m\u001b[1;32m      3\u001b[0m \u001b[0mjwst_SNR\u001b[0m\u001b[0;34m.\u001b[0m\u001b[0mtexp\u001b[0m\u001b[0;34m.\u001b[0m\u001b[0mwrite\u001b[0m\u001b[0;34m(\u001b[0m\u001b[0;34m'SNR4.txt'\u001b[0m\u001b[0;34m,\u001b[0m\u001b[0mformatters\u001b[0m\u001b[0;34m=\u001b[0m\u001b[0mjwst_SNR\u001b[0m\u001b[0;34m.\u001b[0m\u001b[0mformatters4texptable\u001b[0m\u001b[0;34m)\u001b[0m\u001b[0;34m\u001b[0m\u001b[0;34m\u001b[0m\u001b[0m\n",
      "\u001b[0;32m~/Documents/work/code/jwst/jwst_pandeia4transients/jwst_SNR.py\u001b[0m in \u001b[0;36mImaging_texp_table\u001b[0;34m(self, filters, magrange, SNR, lambkg4ETC, texp_type, SNR_tolerance_in_percent, saveSNRflag, texpformat, SNRformat, spec, **kwargs)\u001b[0m\n\u001b[1;32m    552\u001b[0m             \u001b[0mSNRs\u001b[0m\u001b[0;34m=\u001b[0m\u001b[0;34m[\u001b[0m\u001b[0;34m]\u001b[0m\u001b[0;34m\u001b[0m\u001b[0;34m\u001b[0m\u001b[0m\n\u001b[1;32m    553\u001b[0m             \u001b[0;32mfor\u001b[0m \u001b[0mmag\u001b[0m \u001b[0;32min\u001b[0m \u001b[0mmagrange\u001b[0m\u001b[0;34m:\u001b[0m\u001b[0;34m\u001b[0m\u001b[0;34m\u001b[0m\u001b[0m\n\u001b[0;32m--> 554\u001b[0;31m                 texp_results=self.texp4SNRatmag(filt,mag,SNR,lambkg4ETC=lambkg4ETC,\n\u001b[0m\u001b[1;32m    555\u001b[0m                                                 \u001b[0mSNR_tolerance_in_percent\u001b[0m\u001b[0;34m=\u001b[0m\u001b[0mSNR_tolerance_in_percent\u001b[0m\u001b[0;34m,\u001b[0m\u001b[0;34m\u001b[0m\u001b[0;34m\u001b[0m\u001b[0m\n\u001b[1;32m    556\u001b[0m                                                 spec=spec,**kwargs)\n",
      "\u001b[0;32m~/Documents/work/code/jwst/jwst_pandeia4transients/jwst_SNR.py\u001b[0m in \u001b[0;36mtexp4SNRatmag\u001b[0;34m(self, filt, mag, SNR, lambkg4ETC, SNR_tolerance_in_percent, spec, **kwargs)\u001b[0m\n\u001b[1;32m    395\u001b[0m                     \u001b[0;32mbreak\u001b[0m\u001b[0;34m\u001b[0m\u001b[0;34m\u001b[0m\u001b[0m\n\u001b[1;32m    396\u001b[0m \u001b[0;34m\u001b[0m\u001b[0m\n\u001b[0;32m--> 397\u001b[0;31m                 \u001b[0;34m(\u001b[0m\u001b[0mSNRnext\u001b[0m\u001b[0;34m,\u001b[0m\u001b[0mtnext\u001b[0m\u001b[0;34m)\u001b[0m \u001b[0;34m=\u001b[0m \u001b[0mself\u001b[0m\u001b[0;34m.\u001b[0m\u001b[0mImaging_SNR\u001b[0m\u001b[0;34m(\u001b[0m\u001b[0mfilt\u001b[0m\u001b[0;34m,\u001b[0m\u001b[0mmag\u001b[0m\u001b[0;34m,\u001b[0m\u001b[0mtnext\u001b[0m\u001b[0;34m,\u001b[0m\u001b[0mlambkg4ETC\u001b[0m\u001b[0;34m=\u001b[0m\u001b[0mlambkg4ETC\u001b[0m\u001b[0;34m,\u001b[0m\u001b[0mspec\u001b[0m\u001b[0;34m=\u001b[0m\u001b[0mspec\u001b[0m\u001b[0;34m,\u001b[0m\u001b[0;34m**\u001b[0m\u001b[0mkwargs\u001b[0m\u001b[0;34m)\u001b[0m\u001b[0;34m\u001b[0m\u001b[0;34m\u001b[0m\u001b[0m\n\u001b[0m\u001b[1;32m    398\u001b[0m             \u001b[0;32mif\u001b[0m \u001b[0;32mnot\u001b[0m\u001b[0;34m(\u001b[0m\u001b[0mtnext\u001b[0m \u001b[0;32mis\u001b[0m \u001b[0;32mNone\u001b[0m\u001b[0;34m)\u001b[0m\u001b[0;34m:\u001b[0m\u001b[0;34m\u001b[0m\u001b[0;34m\u001b[0m\u001b[0m\n\u001b[1;32m    399\u001b[0m                 \u001b[0;32mif\u001b[0m \u001b[0mself\u001b[0m\u001b[0;34m.\u001b[0m\u001b[0mverbose\u001b[0m\u001b[0;34m:\u001b[0m \u001b[0mprint\u001b[0m\u001b[0;34m(\u001b[0m\u001b[0;34m'SNR=%6.2f>=%.2f for texp=%6.1f, and SNR=%.2f<%.2f for texp=%6.1f!! SUCCESS!'\u001b[0m \u001b[0;34m%\u001b[0m \u001b[0;34m(\u001b[0m\u001b[0mSNRlast\u001b[0m\u001b[0;34m,\u001b[0m\u001b[0mSNR\u001b[0m\u001b[0;34m,\u001b[0m\u001b[0mtlast\u001b[0m\u001b[0;34m,\u001b[0m\u001b[0mSNRnext\u001b[0m\u001b[0;34m,\u001b[0m\u001b[0mSNR\u001b[0m\u001b[0;34m,\u001b[0m\u001b[0mtnext\u001b[0m\u001b[0;34m)\u001b[0m\u001b[0;34m)\u001b[0m\u001b[0;34m\u001b[0m\u001b[0;34m\u001b[0m\u001b[0m\n",
      "\u001b[0;32m~/Documents/work/code/jwst/jwst_pandeia4transients/jwst_SNR.py\u001b[0m in \u001b[0;36mImaging_SNR\u001b[0;34m(self, filt, mag, exptime, lambkg4ETC, spec, **kwargs)\u001b[0m\n\u001b[1;32m    259\u001b[0m \u001b[0;34m\u001b[0m\u001b[0m\n\u001b[1;32m    260\u001b[0m         \u001b[0;31m# calculate SNR with pandeia\u001b[0m\u001b[0;34m\u001b[0m\u001b[0;34m\u001b[0m\u001b[0;34m\u001b[0m\u001b[0m\n\u001b[0;32m--> 261\u001b[0;31m         \u001b[0mself\u001b[0m\u001b[0;34m.\u001b[0m\u001b[0mETCresults\u001b[0m \u001b[0;34m=\u001b[0m \u001b[0mperform_calculation\u001b[0m\u001b[0;34m(\u001b[0m\u001b[0mself\u001b[0m\u001b[0;34m.\u001b[0m\u001b[0mpandeiacfg\u001b[0m\u001b[0;34m)\u001b[0m\u001b[0;34m\u001b[0m\u001b[0;34m\u001b[0m\u001b[0m\n\u001b[0m\u001b[1;32m    262\u001b[0m \u001b[0;34m\u001b[0m\u001b[0m\n\u001b[1;32m    263\u001b[0m         \u001b[0;32mif\u001b[0m \u001b[0mself\u001b[0m\u001b[0;34m.\u001b[0m\u001b[0minstrument\u001b[0m\u001b[0;34m==\u001b[0m\u001b[0;34m'nirspec'\u001b[0m\u001b[0;34m:\u001b[0m\u001b[0;34m\u001b[0m\u001b[0;34m\u001b[0m\u001b[0m\n",
      "\u001b[0;32m~/miniconda3/lib/python3.8/site-packages/pandeia/engine/perform_calculation.py\u001b[0m in \u001b[0;36mperform_calculation\u001b[0;34m(calc_input, reverse, dict_report, webapp)\u001b[0m\n\u001b[1;32m     37\u001b[0m         \u001b[0mreport\u001b[0m \u001b[0;34m=\u001b[0m \u001b[0mcalculate_exposure_time\u001b[0m\u001b[0;34m(\u001b[0m\u001b[0mcalc_input\u001b[0m\u001b[0;34m,\u001b[0m \u001b[0mwebapp\u001b[0m\u001b[0;34m=\u001b[0m\u001b[0mwebapp\u001b[0m\u001b[0;34m)\u001b[0m\u001b[0;34m\u001b[0m\u001b[0;34m\u001b[0m\u001b[0m\n\u001b[1;32m     38\u001b[0m     \u001b[0;32melse\u001b[0m\u001b[0;34m:\u001b[0m\u001b[0;34m\u001b[0m\u001b[0;34m\u001b[0m\u001b[0m\n\u001b[0;32m---> 39\u001b[0;31m         \u001b[0mreport\u001b[0m \u001b[0;34m=\u001b[0m \u001b[0mcalculate_sn\u001b[0m\u001b[0;34m(\u001b[0m\u001b[0mcalc_input\u001b[0m\u001b[0;34m,\u001b[0m \u001b[0mwebapp\u001b[0m\u001b[0;34m=\u001b[0m\u001b[0mwebapp\u001b[0m\u001b[0;34m)\u001b[0m\u001b[0;34m\u001b[0m\u001b[0;34m\u001b[0m\u001b[0m\n\u001b[0m\u001b[1;32m     40\u001b[0m \u001b[0;34m\u001b[0m\u001b[0m\n\u001b[1;32m     41\u001b[0m     \u001b[0;32mif\u001b[0m \u001b[0mdict_report\u001b[0m\u001b[0;34m:\u001b[0m\u001b[0;34m\u001b[0m\u001b[0;34m\u001b[0m\u001b[0m\n",
      "\u001b[0;32m~/miniconda3/lib/python3.8/site-packages/pandeia/engine/etc3D.py\u001b[0m in \u001b[0;36mcalculate_sn\u001b[0;34m(input, webapp)\u001b[0m\n\u001b[1;32m   1382\u001b[0m                 \u001b[0mmy_detector_signal\u001b[0m \u001b[0;34m=\u001b[0m \u001b[0mCombinedSignal\u001b[0m\u001b[0;34m(\u001b[0m\u001b[0morder_signals\u001b[0m\u001b[0;34m)\u001b[0m\u001b[0;34m\u001b[0m\u001b[0;34m\u001b[0m\u001b[0m\n\u001b[1;32m   1383\u001b[0m             \u001b[0;32melse\u001b[0m\u001b[0;34m:\u001b[0m\u001b[0;34m\u001b[0m\u001b[0;34m\u001b[0m\u001b[0m\n\u001b[0;32m-> 1384\u001b[0;31m                 \u001b[0mmy_detector_signal\u001b[0m \u001b[0;34m=\u001b[0m \u001b[0mDetectorSignal\u001b[0m\u001b[0;34m(\u001b[0m\u001b[0mo\u001b[0m\u001b[0;34m,\u001b[0m \u001b[0mcalc_config\u001b[0m\u001b[0;34m=\u001b[0m\u001b[0mcalc_config\u001b[0m\u001b[0;34m,\u001b[0m \u001b[0mwebapp\u001b[0m\u001b[0;34m=\u001b[0m\u001b[0mwebapp\u001b[0m\u001b[0;34m,\u001b[0m \u001b[0morder\u001b[0m\u001b[0;34m=\u001b[0m\u001b[0;32mNone\u001b[0m\u001b[0;34m)\u001b[0m\u001b[0;34m\u001b[0m\u001b[0;34m\u001b[0m\u001b[0m\n\u001b[0m\u001b[1;32m   1385\u001b[0m \u001b[0;34m\u001b[0m\u001b[0m\n\u001b[1;32m   1386\u001b[0m             \u001b[0mmy_detector_noise\u001b[0m \u001b[0;34m=\u001b[0m \u001b[0mDetectorNoise\u001b[0m\u001b[0;34m(\u001b[0m\u001b[0mmy_detector_signal\u001b[0m\u001b[0;34m,\u001b[0m \u001b[0mo\u001b[0m\u001b[0;34m)\u001b[0m\u001b[0;34m\u001b[0m\u001b[0;34m\u001b[0m\u001b[0m\n",
      "\u001b[0;32m~/miniconda3/lib/python3.8/site-packages/pandeia/engine/etc3D.py\u001b[0m in \u001b[0;36m__init__\u001b[0;34m(self, observation, calc_config, webapp, order, empty_scene)\u001b[0m\n\u001b[1;32m     86\u001b[0m \u001b[0;34m\u001b[0m\u001b[0m\n\u001b[1;32m     87\u001b[0m         \u001b[0;31m# Then initialize the flux and wavelength grid\u001b[0m\u001b[0;34m\u001b[0m\u001b[0;34m\u001b[0m\u001b[0;34m\u001b[0m\u001b[0m\n\u001b[0;32m---> 88\u001b[0;31m         astro.ConvolvedSceneCube.__init__(\n\u001b[0m\u001b[1;32m     89\u001b[0m             \u001b[0mself\u001b[0m\u001b[0;34m,\u001b[0m\u001b[0;34m\u001b[0m\u001b[0;34m\u001b[0m\u001b[0m\n\u001b[1;32m     90\u001b[0m             \u001b[0mself\u001b[0m\u001b[0;34m.\u001b[0m\u001b[0mobservation\u001b[0m\u001b[0;34m.\u001b[0m\u001b[0mscene\u001b[0m\u001b[0;34m,\u001b[0m\u001b[0;34m\u001b[0m\u001b[0;34m\u001b[0m\u001b[0m\n",
      "\u001b[0;32m~/miniconda3/lib/python3.8/site-packages/pandeia/engine/astro_spectrum.py\u001b[0m in \u001b[0;36m__init__\u001b[0;34m(self, scene, instrument, background, psf_library, webapp, empty_scene)\u001b[0m\n\u001b[1;32m    577\u001b[0m \u001b[0;34m\u001b[0m\u001b[0m\n\u001b[1;32m    578\u001b[0m         \u001b[0mself\u001b[0m\u001b[0;34m.\u001b[0m\u001b[0mgrid\u001b[0m\u001b[0;34m,\u001b[0m \u001b[0mself\u001b[0m\u001b[0;34m.\u001b[0m\u001b[0maperture_list\u001b[0m\u001b[0;34m,\u001b[0m \u001b[0mself\u001b[0m\u001b[0;34m.\u001b[0m\u001b[0mflux_cube_list\u001b[0m\u001b[0;34m,\u001b[0m \u001b[0mself\u001b[0m\u001b[0;34m.\u001b[0m\u001b[0mflux_plus_bg_list\u001b[0m \u001b[0;34m=\u001b[0m\u001b[0;31m \u001b[0m\u001b[0;31m\\\u001b[0m\u001b[0;34m\u001b[0m\u001b[0;34m\u001b[0m\u001b[0m\n\u001b[0;32m--> 579\u001b[0;31m             \u001b[0mself\u001b[0m\u001b[0;34m.\u001b[0m\u001b[0mcreate_flux_cube\u001b[0m\u001b[0;34m(\u001b[0m\u001b[0mbackground\u001b[0m\u001b[0;34m=\u001b[0m\u001b[0mself\u001b[0m\u001b[0;34m.\u001b[0m\u001b[0mbackground\u001b[0m\u001b[0;34m)\u001b[0m\u001b[0;34m\u001b[0m\u001b[0;34m\u001b[0m\u001b[0m\n\u001b[0m\u001b[1;32m    580\u001b[0m \u001b[0;34m\u001b[0m\u001b[0m\n\u001b[1;32m    581\u001b[0m         \u001b[0mself\u001b[0m\u001b[0;34m.\u001b[0m\u001b[0mdist\u001b[0m \u001b[0;34m=\u001b[0m \u001b[0mself\u001b[0m\u001b[0;34m.\u001b[0m\u001b[0mgrid\u001b[0m\u001b[0;34m.\u001b[0m\u001b[0mdist\u001b[0m\u001b[0;34m(\u001b[0m\u001b[0;34m)\u001b[0m\u001b[0;34m\u001b[0m\u001b[0;34m\u001b[0m\u001b[0m\n",
      "\u001b[0;32m~/miniconda3/lib/python3.8/site-packages/pandeia/engine/astro_spectrum.py\u001b[0m in \u001b[0;36mcreate_flux_cube\u001b[0;34m(self, background)\u001b[0m\n\u001b[1;32m    723\u001b[0m             \u001b[0;32mfor\u001b[0m \u001b[0mcurrent_scene\u001b[0m\u001b[0;34m,\u001b[0m \u001b[0munique_offset\u001b[0m\u001b[0;34m,\u001b[0m \u001b[0mi\u001b[0m \u001b[0;32min\u001b[0m \u001b[0mzip\u001b[0m\u001b[0;34m(\u001b[0m\u001b[0mcurrent_scenes\u001b[0m\u001b[0;34m,\u001b[0m \u001b[0munique_offsets\u001b[0m\u001b[0;34m,\u001b[0m \u001b[0mlist\u001b[0m\u001b[0;34m(\u001b[0m\u001b[0mrange\u001b[0m\u001b[0;34m(\u001b[0m\u001b[0mlen\u001b[0m\u001b[0;34m(\u001b[0m\u001b[0munique_offsets\u001b[0m\u001b[0;34m)\u001b[0m\u001b[0;34m)\u001b[0m\u001b[0;34m)\u001b[0m\u001b[0;34m)\u001b[0m\u001b[0;34m:\u001b[0m\u001b[0;34m\u001b[0m\u001b[0;34m\u001b[0m\u001b[0m\n\u001b[1;32m    724\u001b[0m                 \u001b[0;32mif\u001b[0m \u001b[0mi\u001b[0m \u001b[0;34m==\u001b[0m \u001b[0;36m0\u001b[0m\u001b[0;34m:\u001b[0m\u001b[0;34m\u001b[0m\u001b[0;34m\u001b[0m\u001b[0m\n\u001b[0;32m--> 725\u001b[0;31m                     psf = AdvancedPSF(\n\u001b[0m\u001b[1;32m    726\u001b[0m                         \u001b[0mself\u001b[0m\u001b[0;34m.\u001b[0m\u001b[0mwave\u001b[0m\u001b[0;34m[\u001b[0m\u001b[0miw\u001b[0m\u001b[0;34m]\u001b[0m\u001b[0;34m,\u001b[0m\u001b[0;34m\u001b[0m\u001b[0;34m\u001b[0m\u001b[0m\n\u001b[1;32m    727\u001b[0m                         \u001b[0mself\u001b[0m\u001b[0;34m.\u001b[0m\u001b[0mpsf_library\u001b[0m\u001b[0;34m,\u001b[0m\u001b[0;34m\u001b[0m\u001b[0;34m\u001b[0m\u001b[0m\n",
      "\u001b[0;32m~/miniconda3/lib/python3.8/site-packages/pandeia/engine/astro_spectrum.py\u001b[0m in \u001b[0;36m__init__\u001b[0;34m(self, wave, psf_library, instrument, mode, model_scene, psf_source_offset, aper_width, aper_height, multishutter, nslice, bg_w, single, empty_scene)\u001b[0m\n\u001b[1;32m    968\u001b[0m                     )\n\u001b[1;32m    969\u001b[0m \u001b[0;34m\u001b[0m\u001b[0m\n\u001b[0;32m--> 970\u001b[0;31m                 \u001b[0mslice_int\u001b[0m\u001b[0;34m,\u001b[0m \u001b[0mslice_int_plus_bg\u001b[0m\u001b[0;34m,\u001b[0m \u001b[0mslice_mask\u001b[0m \u001b[0;34m=\u001b[0m \u001b[0mself\u001b[0m\u001b[0;34m.\u001b[0m\u001b[0m_apply_slit_mask\u001b[0m\u001b[0;34m(\u001b[0m\u001b[0mslice_mask_fine\u001b[0m\u001b[0;34m,\u001b[0m \u001b[0mnew_shape\u001b[0m\u001b[0;34m)\u001b[0m\u001b[0;34m\u001b[0m\u001b[0;34m\u001b[0m\u001b[0m\n\u001b[0m\u001b[1;32m    971\u001b[0m                 \u001b[0;31m# for this purpose a set of multiple shutters is treated as a single aperture and uses\u001b[0m\u001b[0;34m\u001b[0m\u001b[0;34m\u001b[0m\u001b[0;34m\u001b[0m\u001b[0m\n\u001b[1;32m    972\u001b[0m                 \u001b[0;31m# the properties of the central shutter.\u001b[0m\u001b[0;34m\u001b[0m\u001b[0;34m\u001b[0m\u001b[0;34m\u001b[0m\u001b[0m\n",
      "\u001b[0;32m~/miniconda3/lib/python3.8/site-packages/pandeia/engine/astro_spectrum.py\u001b[0m in \u001b[0;36m_apply_slit_mask\u001b[0;34m(self, slit_mask, new_shape)\u001b[0m\n\u001b[1;32m   1020\u001b[0m         \u001b[0mintensity\u001b[0m \u001b[0;34m=\u001b[0m \u001b[0mself\u001b[0m\u001b[0;34m.\u001b[0m\u001b[0m_rebin\u001b[0m\u001b[0;34m(\u001b[0m\u001b[0mself\u001b[0m\u001b[0;34m.\u001b[0m\u001b[0mintensity\u001b[0m \u001b[0;34m*\u001b[0m \u001b[0mslit_mask\u001b[0m\u001b[0;34m,\u001b[0m \u001b[0mnew_shape\u001b[0m\u001b[0;34m)\u001b[0m\u001b[0;34m\u001b[0m\u001b[0;34m\u001b[0m\u001b[0m\n\u001b[1;32m   1021\u001b[0m         \u001b[0mintensity_plus_bg\u001b[0m \u001b[0;34m=\u001b[0m \u001b[0mself\u001b[0m\u001b[0;34m.\u001b[0m\u001b[0m_rebin\u001b[0m\u001b[0;34m(\u001b[0m\u001b[0mself\u001b[0m\u001b[0;34m.\u001b[0m\u001b[0mintensity_plus_bg\u001b[0m \u001b[0;34m*\u001b[0m \u001b[0mslit_mask\u001b[0m\u001b[0;34m,\u001b[0m \u001b[0mnew_shape\u001b[0m\u001b[0;34m)\u001b[0m\u001b[0;34m\u001b[0m\u001b[0;34m\u001b[0m\u001b[0m\n\u001b[0;32m-> 1022\u001b[0;31m         \u001b[0maperture_mask\u001b[0m \u001b[0;34m=\u001b[0m \u001b[0mself\u001b[0m\u001b[0;34m.\u001b[0m\u001b[0m_rebin\u001b[0m\u001b[0;34m(\u001b[0m\u001b[0mslit_mask\u001b[0m\u001b[0;34m,\u001b[0m \u001b[0mnew_shape\u001b[0m\u001b[0;34m)\u001b[0m\u001b[0;34m\u001b[0m\u001b[0;34m\u001b[0m\u001b[0m\n\u001b[0m\u001b[1;32m   1023\u001b[0m         \u001b[0;32mreturn\u001b[0m \u001b[0mintensity\u001b[0m\u001b[0;34m,\u001b[0m \u001b[0mintensity_plus_bg\u001b[0m\u001b[0;34m,\u001b[0m \u001b[0maperture_mask\u001b[0m\u001b[0;34m\u001b[0m\u001b[0;34m\u001b[0m\u001b[0m\n\u001b[1;32m   1024\u001b[0m \u001b[0;34m\u001b[0m\u001b[0m\n",
      "\u001b[0;32m~/miniconda3/lib/python3.8/site-packages/pandeia/engine/astro_spectrum.py\u001b[0m in \u001b[0;36m_rebin\u001b[0;34m(self, a, shape)\u001b[0m\n\u001b[1;32m   1039\u001b[0m         \"\"\"\n\u001b[1;32m   1040\u001b[0m         \u001b[0msh\u001b[0m \u001b[0;34m=\u001b[0m \u001b[0mint\u001b[0m\u001b[0;34m(\u001b[0m\u001b[0mshape\u001b[0m\u001b[0;34m[\u001b[0m\u001b[0;36m0\u001b[0m\u001b[0;34m]\u001b[0m\u001b[0;34m)\u001b[0m\u001b[0;34m,\u001b[0m \u001b[0mint\u001b[0m\u001b[0;34m(\u001b[0m\u001b[0ma\u001b[0m\u001b[0;34m.\u001b[0m\u001b[0mshape\u001b[0m\u001b[0;34m[\u001b[0m\u001b[0;36m0\u001b[0m\u001b[0;34m]\u001b[0m \u001b[0;34m//\u001b[0m \u001b[0mshape\u001b[0m\u001b[0;34m[\u001b[0m\u001b[0;36m0\u001b[0m\u001b[0;34m]\u001b[0m\u001b[0;34m)\u001b[0m\u001b[0;34m,\u001b[0m \u001b[0mint\u001b[0m\u001b[0;34m(\u001b[0m\u001b[0mshape\u001b[0m\u001b[0;34m[\u001b[0m\u001b[0;36m1\u001b[0m\u001b[0;34m]\u001b[0m\u001b[0;34m)\u001b[0m\u001b[0;34m,\u001b[0m \u001b[0mint\u001b[0m\u001b[0;34m(\u001b[0m\u001b[0ma\u001b[0m\u001b[0;34m.\u001b[0m\u001b[0mshape\u001b[0m\u001b[0;34m[\u001b[0m\u001b[0;36m1\u001b[0m\u001b[0;34m]\u001b[0m \u001b[0;34m//\u001b[0m \u001b[0mshape\u001b[0m\u001b[0;34m[\u001b[0m\u001b[0;36m1\u001b[0m\u001b[0;34m]\u001b[0m\u001b[0;34m)\u001b[0m\u001b[0;34m\u001b[0m\u001b[0;34m\u001b[0m\u001b[0m\n\u001b[0;32m-> 1041\u001b[0;31m         \u001b[0mnew\u001b[0m \u001b[0;34m=\u001b[0m \u001b[0ma\u001b[0m\u001b[0;34m.\u001b[0m\u001b[0mreshape\u001b[0m\u001b[0;34m(\u001b[0m\u001b[0msh\u001b[0m\u001b[0;34m)\u001b[0m\u001b[0;34m.\u001b[0m\u001b[0msum\u001b[0m\u001b[0;34m(\u001b[0m\u001b[0;34m-\u001b[0m\u001b[0;36m1\u001b[0m\u001b[0;34m)\u001b[0m\u001b[0;34m.\u001b[0m\u001b[0msum\u001b[0m\u001b[0;34m(\u001b[0m\u001b[0;36m1\u001b[0m\u001b[0;34m)\u001b[0m\u001b[0;34m\u001b[0m\u001b[0;34m\u001b[0m\u001b[0m\n\u001b[0m\u001b[1;32m   1042\u001b[0m         \u001b[0;32mreturn\u001b[0m \u001b[0mnew\u001b[0m\u001b[0;34m\u001b[0m\u001b[0;34m\u001b[0m\u001b[0m\n\u001b[1;32m   1043\u001b[0m \u001b[0;34m\u001b[0m\u001b[0m\n",
      "\u001b[0;32m~/miniconda3/lib/python3.8/site-packages/numpy/core/_methods.py\u001b[0m in \u001b[0;36m_sum\u001b[0;34m(a, axis, dtype, out, keepdims, initial, where)\u001b[0m\n\u001b[1;32m     45\u001b[0m def _sum(a, axis=None, dtype=None, out=None, keepdims=False,\n\u001b[1;32m     46\u001b[0m          initial=_NoValue, where=True):\n\u001b[0;32m---> 47\u001b[0;31m     \u001b[0;32mreturn\u001b[0m \u001b[0mumr_sum\u001b[0m\u001b[0;34m(\u001b[0m\u001b[0ma\u001b[0m\u001b[0;34m,\u001b[0m \u001b[0maxis\u001b[0m\u001b[0;34m,\u001b[0m \u001b[0mdtype\u001b[0m\u001b[0;34m,\u001b[0m \u001b[0mout\u001b[0m\u001b[0;34m,\u001b[0m \u001b[0mkeepdims\u001b[0m\u001b[0;34m,\u001b[0m \u001b[0minitial\u001b[0m\u001b[0;34m,\u001b[0m \u001b[0mwhere\u001b[0m\u001b[0;34m)\u001b[0m\u001b[0;34m\u001b[0m\u001b[0;34m\u001b[0m\u001b[0m\n\u001b[0m\u001b[1;32m     48\u001b[0m \u001b[0;34m\u001b[0m\u001b[0m\n\u001b[1;32m     49\u001b[0m def _prod(a, axis=None, dtype=None, out=None, keepdims=False,\n",
      "\u001b[0;31mKeyboardInterrupt\u001b[0m: "
     ]
    }
   ],
   "source": [
    "# this part fials\n",
    "jwst_SNR.verbose=2\n",
    "jwst_SNR.Imaging_texp_table(['F200W'],np.arange(24.0,30.0,1),5,spec=snia,wave=2,width=.5)\n",
    "jwst_SNR.texp.write('NIRSpec_SNR4.txt',formatters=jwst_SNR.formatters4texptable)"
   ]
  },
  {
   "cell_type": "code",
   "execution_count": null,
   "metadata": {
    "scrolled": false
   },
   "outputs": [],
   "source": [
    "jwst_SNR.ETCresults"
   ]
  },
  {
   "cell_type": "code",
   "execution_count": null,
   "metadata": {
    "scrolled": true
   },
   "outputs": [],
   "source": [
    "jwst_SNR.ETCresults"
   ]
  },
  {
   "cell_type": "code",
   "execution_count": null,
   "metadata": {},
   "outputs": [],
   "source": [
    "plt.figure()\n",
    "plt.plot(snia.wave,snia.flux)"
   ]
  },
  {
   "cell_type": "code",
   "execution_count": null,
   "metadata": {
    "scrolled": false
   },
   "outputs": [],
   "source": [
    "jwst_SNR.verbose=2\n",
    "jwst_SNR.Imaging_SNR_table(['F200W','F444W'],np.arange(25.0,26.0,0.5),1000,spec=snia,wave=2,width=.5)"
   ]
  },
  {
   "cell_type": "code",
   "execution_count": null,
   "metadata": {},
   "outputs": [],
   "source": [
    "import math"
   ]
  },
  {
   "cell_type": "code",
   "execution_count": null,
   "metadata": {},
   "outputs": [],
   "source": [
    "math.pow(5/2,2)"
   ]
  },
  {
   "cell_type": "code",
   "execution_count": null,
   "metadata": {},
   "outputs": [],
   "source": []
  },
  {
   "cell_type": "code",
   "execution_count": null,
   "metadata": {
    "scrolled": true
   },
   "outputs": [],
   "source": []
  },
  {
   "cell_type": "code",
   "execution_count": null,
   "metadata": {},
   "outputs": [],
   "source": []
  },
  {
   "cell_type": "code",
   "execution_count": null,
   "metadata": {},
   "outputs": [],
   "source": []
  },
  {
   "cell_type": "code",
   "execution_count": null,
   "metadata": {},
   "outputs": [],
   "source": [
    "res = jwst_SNR.ETCresults"
   ]
  },
  {
   "cell_type": "code",
   "execution_count": null,
   "metadata": {},
   "outputs": [],
   "source": [
    "snr = res['1d']['sn']"
   ]
  },
  {
   "cell_type": "code",
   "execution_count": null,
   "metadata": {},
   "outputs": [],
   "source": [
    "plt.figure()\n",
    "plt.plot(snr[0],snr[1])"
   ]
  },
  {
   "cell_type": "code",
   "execution_count": null,
   "metadata": {},
   "outputs": [],
   "source": [
    "plt.axvspan()"
   ]
  }
 ],
 "metadata": {
  "kernelspec": {
   "display_name": "Python 3",
   "language": "python",
   "name": "python3"
  },
  "language_info": {
   "codemirror_mode": {
    "name": "ipython",
    "version": 3
   },
   "file_extension": ".py",
   "mimetype": "text/x-python",
   "name": "python",
   "nbconvert_exporter": "python",
   "pygments_lexer": "ipython3",
   "version": "3.6.10"
  }
 },
 "nbformat": 4,
 "nbformat_minor": 4
}
