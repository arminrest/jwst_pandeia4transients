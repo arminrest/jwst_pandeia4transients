{
 "cells": [
  {
   "cell_type": "code",
   "execution_count": 1,
   "metadata": {},
   "outputs": [],
   "source": [
    "from jwst_SNR import jwst_SNRclass\n",
    "import numpy as np\n",
    "from nirspec_sn import *\n",
    "%matplotlib notebook"
   ]
  },
  {
   "cell_type": "markdown",
   "metadata": {},
   "source": [
    "## Load in test spectrum\n",
    "Load in a SN Ia spectrum and set it inside a synphot spectrum class"
   ]
  },
  {
   "cell_type": "code",
   "execution_count": 2,
   "metadata": {},
   "outputs": [],
   "source": [
    "from astropy.io import ascii\n",
    "\n",
    "file = './data/snia_10pc_phase=p0.95.dat'\n",
    "data = ascii.read(file)  \n",
    "df = data.to_pandas()\n",
    "snia = S.ArraySpectrum(df['Wavelength'].values,df['Flux'].values,waveunits='angstrom',\n",
    "               fluxunits='flam')\n",
    "sniaz4 = snia.redshift(4)"
   ]
  },
  {
   "cell_type": "markdown",
   "metadata": {},
   "source": [
    "## Setup background"
   ]
  },
  {
   "cell_type": "code",
   "execution_count": 3,
   "metadata": {},
   "outputs": [
    {
     "name": "stdout",
     "output_type": "stream",
     "text": [
      "{'ElGordo': ('01 02 55.2', '-49 14 29.3'), 'EmptyERS': ('03 32 42.397', '-27 42 7.93'), 'NEP-TDF': ('17:22:47.896', '+65:49:21.54'), 'NEP-DF': ('17:40:08.00', '+69:00:08.00'), 'CDF-S': ('03:32:28.0', '−27:48:30')}\n",
      "Calculating background for position ElGordo (15.730000,-49.241472)\n"
     ]
    }
   ],
   "source": [
    "from background4jwst import background4jwstclass\n",
    "background4jwst=background4jwstclass()\n",
    "    \n",
    "# set the position for which the background will be calculated. set_position_by_target uses \n",
    "# pre-defined positions, set_position can be used to set any position\n",
    "print(background4jwst.defaulttargets)\n",
    "background4jwst.set_position_by_target('ElGordo')\n",
    "# alternatively, background4jwst.set_position('01 02 55.2','-49 14 29.3','ElGordo')\n",
    "# Get the background from pandeia for this position\n",
    "# optional parameters: lam, thresh\n",
    "background4jwst.calc_background()"
   ]
  },
  {
   "cell_type": "markdown",
   "metadata": {},
   "source": [
    "## Calculating exposure times with the main SNR class\n",
    "This class offers a simplofied quick look into the signal to noise observed by NIRSpec.\n",
    "In this simple setup, only the prism in the nrsirs2rapid readout mode is avaiable."
   ]
  },
  {
   "cell_type": "code",
   "execution_count": 4,
   "metadata": {},
   "outputs": [
    {
     "name": "stdout",
     "output_type": "stream",
     "text": [
      "Initializing pandeia with nirspec, None\n",
      "Initializing nirspec fixed_slit\n",
      "Calculating background for position EmptyERS (53.176654,-27.702203)\n",
      "### Calculating percentile: 50\n",
      "day: 187\n"
     ]
    },
    {
     "data": {
      "text/plain": [
       "0"
      ]
     },
     "execution_count": 4,
     "metadata": {},
     "output_type": "execute_result"
    }
   ],
   "source": [
    "# initialise and select instrument\n",
    "jwst_SNR=jwst_SNRclass(instrument='nirspec')\n",
    "# assign background\n",
    "jwst_SNR.set_background4jwst(50,target='EmptyERS')"
   ]
  },
  {
   "cell_type": "markdown",
   "metadata": {},
   "source": [
    "If you have a SN Ia at $z=4$, how long of an exposure time would be needed to reach a desired SNR?\n",
    "We can calculate this quickly with the Imaging_texp_table. In this case we can input a NIRCam filter(s), and\n",
    "a magnitude range to normalise the spectrum to, and a target SNR. For this simple calculation of the SNR, we take an average over a wavelength range, centered on the $wave$ input and extendts $\\pm width$ either side. "
   ]
  },
  {
   "cell_type": "code",
   "execution_count": 5,
   "metadata": {
    "scrolled": true
   },
   "outputs": [
    {
     "name": "stdout",
     "output_type": "stream",
     "text": [
      "['g235m', 'g235h', 'prism']\n",
      "#############################\n",
      "#### Filter:f200w, mag 24.000000, grating: g235m, for S/N=5 \n",
      "#############################\n",
      "reference spec\n"
     ]
    },
    {
     "name": "stderr",
     "output_type": "stream",
     "text": [
      "WARNING: Source spectrum will be extrapolated (at constant value for empirical model). [synphot.observation]\n"
     ]
    },
    {
     "name": "stdout",
     "output_type": "stream",
     "text": [
      "filter:f200w mag:24.00, target exptime:1000.0  ==> SNR=17.67 exptime=992.0\n",
      "SNR= 17.67 for starting texp= 992.0\n",
      "texp guess: 174.9\n",
      "reference spec\n"
     ]
    },
    {
     "name": "stderr",
     "output_type": "stream",
     "text": [
      "WARNING: Source spectrum will be extrapolated (at constant value for empirical model). [synphot.observation]\n"
     ]
    },
    {
     "name": "stdout",
     "output_type": "stream",
     "text": [
      "filter:f200w mag:24.00, target exptime:291.8  ==> SNR=2.59 exptime=291.8\n",
      "SNR=  2.59 for next texp= 291.8\n",
      "SNR=  2.59<5.00 for texp= 291.8, checking the next larger exptime...\n",
      "reference spec\n"
     ]
    },
    {
     "name": "stderr",
     "output_type": "stream",
     "text": [
      "WARNING: Source spectrum will be extrapolated (at constant value for empirical model). [synphot.observation]\n"
     ]
    },
    {
     "name": "stdout",
     "output_type": "stream",
     "text": [
      "filter:f200w mag:24.00, target exptime:525.2  ==> SNR=7.05 exptime=525.2\n",
      "SNR=  7.05>=5.00 for texp= 525.2!! SUCCESS!\n",
      "#############################\n",
      "#### Filter:f200w, mag 25.000000, grating: g235m, for S/N=5 \n",
      "#############################\n",
      "reference spec\n"
     ]
    },
    {
     "name": "stderr",
     "output_type": "stream",
     "text": [
      "WARNING: Source spectrum will be extrapolated (at constant value for empirical model). [synphot.observation]\n"
     ]
    },
    {
     "name": "stdout",
     "output_type": "stream",
     "text": [
      "filter:f200w mag:25.00, target exptime:1000.0  ==> SNR=7.13 exptime=992.0\n",
      "SNR=  7.13 for starting texp= 992.0\n",
      "texp guess: 609.1\n",
      "reference spec\n"
     ]
    },
    {
     "name": "stderr",
     "output_type": "stream",
     "text": [
      "WARNING: Source spectrum will be extrapolated (at constant value for empirical model). [synphot.observation]\n"
     ]
    },
    {
     "name": "stdout",
     "output_type": "stream",
     "text": [
      "filter:f200w mag:25.00, target exptime:758.6  ==> SNR=4.90 exptime=758.6\n",
      "SNR=  4.90 for next texp= 758.6\n",
      "SNR=  4.90<5.00 for texp= 758.6, checking the next larger exptime...\n",
      "reference spec\n"
     ]
    },
    {
     "name": "stderr",
     "output_type": "stream",
     "text": [
      "WARNING: Source spectrum will be extrapolated (at constant value for empirical model). [synphot.observation]\n"
     ]
    },
    {
     "name": "stdout",
     "output_type": "stream",
     "text": [
      "filter:f200w mag:25.00, target exptime:992.0  ==> SNR=7.13 exptime=992.0\n",
      "SNR=  7.13>=5.00 for texp= 992.0!! SUCCESS!\n",
      "#############################\n",
      "#### Filter:f200w, mag 26.000000, grating: g235m, for S/N=5 \n",
      "#############################\n",
      "reference spec\n"
     ]
    },
    {
     "name": "stderr",
     "output_type": "stream",
     "text": [
      "WARNING: Source spectrum will be extrapolated (at constant value for empirical model). [synphot.observation]\n"
     ]
    },
    {
     "name": "stdout",
     "output_type": "stream",
     "text": [
      "filter:f200w mag:26.00, target exptime:1000.0  ==> SNR=2.85 exptime=992.0\n",
      "SNR=  2.85 for starting texp= 992.0\n",
      "texp guess: 2145.1\n",
      "reference spec\n"
     ]
    },
    {
     "name": "stderr",
     "output_type": "stream",
     "text": [
      "WARNING: Source spectrum will be extrapolated (at constant value for empirical model). [synphot.observation]\n"
     ]
    },
    {
     "name": "stdout",
     "output_type": "stream",
     "text": [
      "filter:f200w mag:26.00, target exptime:2159.2  ==> SNR=7.45 exptime=2159.2\n",
      "SNR=  7.45 for next texp=2159.2\n",
      "SNR=  7.45>5.00 for texp=2159.2, checking the next lower exptime...\n",
      "reference spec\n"
     ]
    },
    {
     "name": "stderr",
     "output_type": "stream",
     "text": [
      "WARNING: Source spectrum will be extrapolated (at constant value for empirical model). [synphot.observation]\n"
     ]
    },
    {
     "name": "stdout",
     "output_type": "stream",
     "text": [
      "filter:f200w mag:26.00, target exptime:1925.7  ==> SNR=6.55 exptime=1925.7\n",
      "SNR=  6.55>5.00 for texp=1925.7, checking the next lower exptime...\n",
      "reference spec\n"
     ]
    },
    {
     "name": "stderr",
     "output_type": "stream",
     "text": [
      "WARNING: Source spectrum will be extrapolated (at constant value for empirical model). [synphot.observation]\n"
     ]
    },
    {
     "name": "stdout",
     "output_type": "stream",
     "text": [
      "filter:f200w mag:26.00, target exptime:1692.3  ==> SNR=5.64 exptime=1692.3\n",
      "SNR=  5.64>5.00 for texp=1692.3, checking the next lower exptime...\n",
      "reference spec\n"
     ]
    },
    {
     "name": "stderr",
     "output_type": "stream",
     "text": [
      "WARNING: Source spectrum will be extrapolated (at constant value for empirical model). [synphot.observation]\n"
     ]
    },
    {
     "name": "stdout",
     "output_type": "stream",
     "text": [
      "filter:f200w mag:26.00, target exptime:1458.9  ==> SNR=4.71 exptime=1458.9\n",
      "SNR=  5.64>=5.00 for texp=1692.3, and SNR=4.71<5.00 for texp=1458.9!! SUCCESS!\n",
      "#############################\n",
      "#### Filter:f200w, mag 27.000000, grating: g235m, for S/N=5 \n",
      "#############################\n",
      "reference spec\n"
     ]
    },
    {
     "name": "stderr",
     "output_type": "stream",
     "text": [
      "WARNING: Source spectrum will be extrapolated (at constant value for empirical model). [synphot.observation]\n"
     ]
    },
    {
     "name": "stdout",
     "output_type": "stream",
     "text": [
      "filter:f200w mag:27.00, target exptime:1000.0  ==> SNR=1.14 exptime=992.0\n",
      "SNR=  1.14 for starting texp= 992.0\n",
      "texp guess: 7588.4\n",
      "reference spec\n"
     ]
    },
    {
     "name": "stderr",
     "output_type": "stream",
     "text": [
      "WARNING: Source spectrum will be extrapolated (at constant value for empirical model). [synphot.observation]\n"
     ]
    },
    {
     "name": "stdout",
     "output_type": "stream",
     "text": [
      "filter:f200w mag:27.00, target exptime:8053.1  ==> SNR=7.83 exptime=8053.1\n",
      "SNR=  7.83 for next texp=8053.1\n",
      "SNR=  7.83>5.00 for texp=8053.1, checking the next lower exptime...\n",
      "reference spec\n"
     ]
    },
    {
     "name": "stderr",
     "output_type": "stream",
     "text": [
      "WARNING: Source spectrum will be extrapolated (at constant value for empirical model). [synphot.observation]\n"
     ]
    },
    {
     "name": "stdout",
     "output_type": "stream",
     "text": [
      "filter:f200w mag:27.00, target exptime:7586.3  ==> SNR=7.43 exptime=7586.2\n",
      "SNR=  7.43>5.00 for texp=7586.2, checking the next lower exptime...\n",
      "reference spec\n"
     ]
    },
    {
     "name": "stderr",
     "output_type": "stream",
     "text": [
      "WARNING: Source spectrum will be extrapolated (at constant value for empirical model). [synphot.observation]\n"
     ]
    },
    {
     "name": "stdout",
     "output_type": "stream",
     "text": [
      "filter:f200w mag:27.00, target exptime:7119.4  ==> SNR=7.01 exptime=7119.4\n",
      "SNR=  7.01>5.00 for texp=7119.4, checking the next lower exptime...\n",
      "reference spec\n"
     ]
    },
    {
     "name": "stderr",
     "output_type": "stream",
     "text": [
      "WARNING: Source spectrum will be extrapolated (at constant value for empirical model). [synphot.observation]\n"
     ]
    },
    {
     "name": "stdout",
     "output_type": "stream",
     "text": [
      "filter:f200w mag:27.00, target exptime:6652.6  ==> SNR=6.58 exptime=6652.5\n",
      "SNR=  6.58>5.00 for texp=6652.5, checking the next lower exptime...\n",
      "reference spec\n"
     ]
    },
    {
     "name": "stderr",
     "output_type": "stream",
     "text": [
      "WARNING: Source spectrum will be extrapolated (at constant value for empirical model). [synphot.observation]\n"
     ]
    },
    {
     "name": "stdout",
     "output_type": "stream",
     "text": [
      "filter:f200w mag:27.00, target exptime:6185.7  ==> SNR=6.14 exptime=6185.7\n",
      "SNR=  6.14>5.00 for texp=6185.7, checking the next lower exptime...\n",
      "reference spec\n"
     ]
    },
    {
     "name": "stderr",
     "output_type": "stream",
     "text": [
      "WARNING: Source spectrum will be extrapolated (at constant value for empirical model). [synphot.observation]\n"
     ]
    },
    {
     "name": "stdout",
     "output_type": "stream",
     "text": [
      "filter:f200w mag:27.00, target exptime:5894.0  ==> SNR=7.50 exptime=5893.9\n",
      "SNR=  7.50>5.00 for texp=5893.9, checking the next lower exptime...\n",
      "reference spec\n"
     ]
    },
    {
     "name": "stderr",
     "output_type": "stream",
     "text": [
      "WARNING: Source spectrum will be extrapolated (at constant value for empirical model). [synphot.observation]\n"
     ]
    },
    {
     "name": "stdout",
     "output_type": "stream",
     "text": [
      "filter:f200w mag:27.00, target exptime:5660.5  ==> SNR=7.28 exptime=5660.5\n",
      "SNR=  7.28>5.00 for texp=5660.5, checking the next lower exptime...\n",
      "reference spec\n"
     ]
    },
    {
     "name": "stderr",
     "output_type": "stream",
     "text": [
      "WARNING: Source spectrum will be extrapolated (at constant value for empirical model). [synphot.observation]\n"
     ]
    },
    {
     "name": "stdout",
     "output_type": "stream",
     "text": [
      "filter:f200w mag:27.00, target exptime:5427.1  ==> SNR=7.06 exptime=5427.1\n",
      "SNR=  7.06>5.00 for texp=5427.1, checking the next lower exptime...\n",
      "reference spec\n"
     ]
    },
    {
     "name": "stderr",
     "output_type": "stream",
     "text": [
      "WARNING: Source spectrum will be extrapolated (at constant value for empirical model). [synphot.observation]\n"
     ]
    },
    {
     "name": "stdout",
     "output_type": "stream",
     "text": [
      "filter:f200w mag:27.00, target exptime:5193.7  ==> SNR=6.83 exptime=5193.6\n",
      "SNR=  6.83>5.00 for texp=5193.6, checking the next lower exptime...\n",
      "reference spec\n"
     ]
    },
    {
     "name": "stderr",
     "output_type": "stream",
     "text": [
      "WARNING: Source spectrum will be extrapolated (at constant value for empirical model). [synphot.observation]\n"
     ]
    },
    {
     "name": "stdout",
     "output_type": "stream",
     "text": [
      "filter:f200w mag:27.00, target exptime:4960.3  ==> SNR=6.58 exptime=4960.2\n",
      "SNR=  6.58>5.00 for texp=4960.2, checking the next lower exptime...\n",
      "reference spec\n"
     ]
    },
    {
     "name": "stderr",
     "output_type": "stream",
     "text": [
      "WARNING: Source spectrum will be extrapolated (at constant value for empirical model). [synphot.observation]\n"
     ]
    },
    {
     "name": "stdout",
     "output_type": "stream",
     "text": [
      "filter:f200w mag:27.00, target exptime:4726.8  ==> SNR=6.34 exptime=4726.8\n",
      "SNR=  6.34>5.00 for texp=4726.8, checking the next lower exptime...\n",
      "reference spec\n"
     ]
    },
    {
     "name": "stderr",
     "output_type": "stream",
     "text": [
      "WARNING: Source spectrum will be extrapolated (at constant value for empirical model). [synphot.observation]\n"
     ]
    },
    {
     "name": "stdout",
     "output_type": "stream",
     "text": [
      "filter:f200w mag:27.00, target exptime:4493.4  ==> SNR=6.08 exptime=4493.4\n",
      "SNR=  6.08>5.00 for texp=4493.4, checking the next lower exptime...\n",
      "reference spec\n"
     ]
    },
    {
     "name": "stderr",
     "output_type": "stream",
     "text": [
      "WARNING: Source spectrum will be extrapolated (at constant value for empirical model). [synphot.observation]\n"
     ]
    },
    {
     "name": "stdout",
     "output_type": "stream",
     "text": [
      "filter:f200w mag:27.00, target exptime:4260.0  ==> SNR=5.81 exptime=4260.0\n",
      "SNR=  5.81>5.00 for texp=4260.0, checking the next lower exptime...\n",
      "reference spec\n"
     ]
    },
    {
     "name": "stderr",
     "output_type": "stream",
     "text": [
      "WARNING: Source spectrum will be extrapolated (at constant value for empirical model). [synphot.observation]\n"
     ]
    },
    {
     "name": "stdout",
     "output_type": "stream",
     "text": [
      "filter:f200w mag:27.00, target exptime:4026.6  ==> SNR=5.54 exptime=4026.5\n",
      "SNR=  5.54>5.00 for texp=4026.5, checking the next lower exptime...\n",
      "reference spec\n"
     ]
    },
    {
     "name": "stderr",
     "output_type": "stream",
     "text": [
      "WARNING: Source spectrum will be extrapolated (at constant value for empirical model). [synphot.observation]\n"
     ]
    },
    {
     "name": "stdout",
     "output_type": "stream",
     "text": [
      "filter:f200w mag:27.00, target exptime:3793.1  ==> SNR=5.25 exptime=3793.1\n",
      "SNR=  5.25>5.00 for texp=3793.1, checking the next lower exptime...\n",
      "reference spec\n"
     ]
    },
    {
     "name": "stderr",
     "output_type": "stream",
     "text": [
      "WARNING: Source spectrum will be extrapolated (at constant value for empirical model). [synphot.observation]\n"
     ]
    },
    {
     "name": "stdout",
     "output_type": "stream",
     "text": [
      "filter:f200w mag:27.00, target exptime:3559.7  ==> SNR=4.96 exptime=3559.7\n",
      "SNR=  5.25>=5.00 for texp=3793.1, and SNR=4.96<5.00 for texp=3559.7!! SUCCESS!\n",
      "#############################\n",
      "#### Filter:f200w, mag 28.000000, grating: g235m, for S/N=5 \n",
      "#############################\n",
      "reference spec\n"
     ]
    },
    {
     "name": "stderr",
     "output_type": "stream",
     "text": [
      "WARNING: Source spectrum will be extrapolated (at constant value for empirical model). [synphot.observation]\n"
     ]
    },
    {
     "name": "stdout",
     "output_type": "stream",
     "text": [
      "filter:f200w mag:28.00, target exptime:1000.0  ==> SNR=0.45 exptime=992.0\n",
      "SNR=  0.45 for starting texp= 992.0\n",
      "texp guess: 26892.3\n",
      "reference spec\n"
     ]
    },
    {
     "name": "stderr",
     "output_type": "stream",
     "text": [
      "WARNING: Source spectrum will be extrapolated (at constant value for empirical model). [synphot.observation]\n"
     ]
    },
    {
     "name": "stdout",
     "output_type": "stream",
     "text": [
      "filter:f200w mag:28.00, target exptime:9920.5  ==> SNR=3.73 exptime=9920.4\n",
      "SNR=  3.73 for next texp=9920.4\n",
      "SNR=  3.73<5.00 for texp=9920.4, checking the next larger exptime...\n",
      "Warning: could not find an exposure time that is long enough to reach SNR=5.00, only 3.73\n",
      "#############################\n",
      "#### Filter:f200w, mag 29.000000, grating: g235m, for S/N=5 \n",
      "#############################\n",
      "reference spec\n"
     ]
    },
    {
     "name": "stderr",
     "output_type": "stream",
     "text": [
      "WARNING: Source spectrum will be extrapolated (at constant value for empirical model). [synphot.observation]\n"
     ]
    },
    {
     "name": "stdout",
     "output_type": "stream",
     "text": [
      "filter:f200w mag:29.00, target exptime:1000.0  ==> SNR=0.18 exptime=992.0\n",
      "SNR=  0.18 for starting texp= 992.0\n",
      "texp guess: 95371.7\n",
      "reference spec\n"
     ]
    },
    {
     "name": "stderr",
     "output_type": "stream",
     "text": [
      "WARNING: Source spectrum will be extrapolated (at constant value for empirical model). [synphot.observation]\n"
     ]
    },
    {
     "name": "stdout",
     "output_type": "stream",
     "text": [
      "filter:f200w mag:29.00, target exptime:9920.5  ==> SNR=1.49 exptime=9920.4\n",
      "SNR=  1.49 for next texp=9920.4\n",
      "SNR=  1.49<5.00 for texp=9920.4, checking the next larger exptime...\n",
      "Warning: could not find an exposure time that is long enough to reach SNR=5.00, only 1.49\n",
      "#############################\n",
      "#### Filter:f200w, mag 24.000000, grating: g235h, for S/N=5 \n",
      "#############################\n",
      "reference spec\n"
     ]
    },
    {
     "name": "stderr",
     "output_type": "stream",
     "text": [
      "WARNING: Source spectrum will be extrapolated (at constant value for empirical model). [synphot.observation]\n",
      "/Users/rridden/miniconda3/lib/python3.8/site-packages/pandeia/engine/report.py:422: RuntimeWarning: divide by zero encountered in true_divide\n",
      "  sn = self.extracted['extracted_flux'] / self.extracted['extracted_noise']\n",
      "/Users/rridden/miniconda3/lib/python3.8/site-packages/pandeia/engine/projection.py:66: RuntimeWarning: divide by zero encountered in true_divide\n",
      "  self.detector_sn = (s - self.bg_pix) / n\n",
      "WARNING: Source spectrum will be extrapolated (at constant value for empirical model). [synphot.observation]\n"
     ]
    },
    {
     "name": "stdout",
     "output_type": "stream",
     "text": [
      "filter:f200w mag:24.00, target exptime:1000.0  ==> SNR=10.43 exptime=992.0\n",
      "SNR= 10.43 for starting texp= 992.0\n",
      "texp guess: 360.8\n",
      "reference spec\n"
     ]
    },
    {
     "name": "stderr",
     "output_type": "stream",
     "text": [
      "/Users/rridden/miniconda3/lib/python3.8/site-packages/pandeia/engine/report.py:422: RuntimeWarning: divide by zero encountered in true_divide\n",
      "  sn = self.extracted['extracted_flux'] / self.extracted['extracted_noise']\n",
      "/Users/rridden/miniconda3/lib/python3.8/site-packages/pandeia/engine/projection.py:66: RuntimeWarning: divide by zero encountered in true_divide\n",
      "  self.detector_sn = (s - self.bg_pix) / n\n"
     ]
    },
    {
     "name": "stdout",
     "output_type": "stream",
     "text": [
      "filter:f200w mag:24.00, target exptime:525.2  ==> SNR=4.10 exptime=525.2\n",
      "SNR=  4.10 for next texp= 525.2\n",
      "SNR=  4.10<5.00 for texp= 525.2, checking the next larger exptime...\n",
      "reference spec\n"
     ]
    },
    {
     "name": "stderr",
     "output_type": "stream",
     "text": [
      "WARNING: Source spectrum will be extrapolated (at constant value for empirical model). [synphot.observation]\n",
      "/Users/rridden/miniconda3/lib/python3.8/site-packages/pandeia/engine/report.py:422: RuntimeWarning: divide by zero encountered in true_divide\n",
      "  sn = self.extracted['extracted_flux'] / self.extracted['extracted_noise']\n",
      "/Users/rridden/miniconda3/lib/python3.8/site-packages/pandeia/engine/projection.py:66: RuntimeWarning: divide by zero encountered in true_divide\n",
      "  self.detector_sn = (s - self.bg_pix) / n\n"
     ]
    },
    {
     "name": "stdout",
     "output_type": "stream",
     "text": [
      "filter:f200w mag:24.00, target exptime:758.6  ==> SNR=7.15 exptime=758.6\n",
      "SNR=  7.15>=5.00 for texp= 758.6!! SUCCESS!\n",
      "#############################\n",
      "#### Filter:f200w, mag 25.000000, grating: g235h, for S/N=5 \n",
      "#############################\n",
      "reference spec\n"
     ]
    },
    {
     "name": "stderr",
     "output_type": "stream",
     "text": [
      "WARNING: Source spectrum will be extrapolated (at constant value for empirical model). [synphot.observation]\n",
      "/Users/rridden/miniconda3/lib/python3.8/site-packages/pandeia/engine/report.py:422: RuntimeWarning: divide by zero encountered in true_divide\n",
      "  sn = self.extracted['extracted_flux'] / self.extracted['extracted_noise']\n",
      "/Users/rridden/miniconda3/lib/python3.8/site-packages/pandeia/engine/projection.py:66: RuntimeWarning: divide by zero encountered in true_divide\n",
      "  self.detector_sn = (s - self.bg_pix) / n\n",
      "WARNING: Source spectrum will be extrapolated (at constant value for empirical model). [synphot.observation]\n"
     ]
    },
    {
     "name": "stdout",
     "output_type": "stream",
     "text": [
      "filter:f200w mag:25.00, target exptime:1000.0  ==> SNR=4.17 exptime=992.0\n",
      "SNR=  4.17 for starting texp= 992.0\n",
      "texp guess: 1271.6\n",
      "reference spec\n"
     ]
    },
    {
     "name": "stderr",
     "output_type": "stream",
     "text": [
      "/Users/rridden/miniconda3/lib/python3.8/site-packages/pandeia/engine/report.py:422: RuntimeWarning: divide by zero encountered in true_divide\n",
      "  sn = self.extracted['extracted_flux'] / self.extracted['extracted_noise']\n",
      "/Users/rridden/miniconda3/lib/python3.8/site-packages/pandeia/engine/projection.py:66: RuntimeWarning: divide by zero encountered in true_divide\n",
      "  self.detector_sn = (s - self.bg_pix) / n\n",
      "WARNING: Source spectrum will be extrapolated (at constant value for empirical model). [synphot.observation]\n"
     ]
    },
    {
     "name": "stdout",
     "output_type": "stream",
     "text": [
      "filter:f200w mag:25.00, target exptime:1458.9  ==> SNR=6.94 exptime=1458.9\n",
      "SNR=  6.94 for next texp=1458.9\n",
      "SNR=  6.94>5.00 for texp=1458.9, checking the next lower exptime...\n",
      "reference spec\n"
     ]
    },
    {
     "name": "stderr",
     "output_type": "stream",
     "text": [
      "/Users/rridden/miniconda3/lib/python3.8/site-packages/pandeia/engine/report.py:422: RuntimeWarning: divide by zero encountered in true_divide\n",
      "  sn = self.extracted['extracted_flux'] / self.extracted['extracted_noise']\n",
      "/Users/rridden/miniconda3/lib/python3.8/site-packages/pandeia/engine/projection.py:66: RuntimeWarning: divide by zero encountered in true_divide\n",
      "  self.detector_sn = (s - self.bg_pix) / n\n",
      "WARNING: Source spectrum will be extrapolated (at constant value for empirical model). [synphot.observation]\n"
     ]
    },
    {
     "name": "stdout",
     "output_type": "stream",
     "text": [
      "filter:f200w mag:25.00, target exptime:1225.5  ==> SNR=5.55 exptime=1225.5\n",
      "SNR=  5.55>5.00 for texp=1225.5, checking the next lower exptime...\n",
      "reference spec\n"
     ]
    },
    {
     "name": "stderr",
     "output_type": "stream",
     "text": [
      "/Users/rridden/miniconda3/lib/python3.8/site-packages/pandeia/engine/report.py:422: RuntimeWarning: divide by zero encountered in true_divide\n",
      "  sn = self.extracted['extracted_flux'] / self.extracted['extracted_noise']\n",
      "/Users/rridden/miniconda3/lib/python3.8/site-packages/pandeia/engine/projection.py:66: RuntimeWarning: divide by zero encountered in true_divide\n",
      "  self.detector_sn = (s - self.bg_pix) / n\n",
      "WARNING: Source spectrum will be extrapolated (at constant value for empirical model). [synphot.observation]\n"
     ]
    },
    {
     "name": "stdout",
     "output_type": "stream",
     "text": [
      "filter:f200w mag:25.00, target exptime:992.0  ==> SNR=4.17 exptime=992.0\n",
      "SNR=  5.55>=5.00 for texp=1225.5, and SNR=4.17<5.00 for texp= 992.0!! SUCCESS!\n",
      "#############################\n",
      "#### Filter:f200w, mag 26.000000, grating: g235h, for S/N=5 \n",
      "#############################\n",
      "reference spec\n"
     ]
    },
    {
     "name": "stderr",
     "output_type": "stream",
     "text": [
      "/Users/rridden/miniconda3/lib/python3.8/site-packages/pandeia/engine/report.py:422: RuntimeWarning: divide by zero encountered in true_divide\n",
      "  sn = self.extracted['extracted_flux'] / self.extracted['extracted_noise']\n",
      "/Users/rridden/miniconda3/lib/python3.8/site-packages/pandeia/engine/projection.py:66: RuntimeWarning: divide by zero encountered in true_divide\n",
      "  self.detector_sn = (s - self.bg_pix) / n\n"
     ]
    },
    {
     "name": "stdout",
     "output_type": "stream",
     "text": [
      "filter:f200w mag:26.00, target exptime:1000.0  ==> SNR=1.67 exptime=992.0\n",
      "SNR=  1.67 for starting texp= 992.0\n",
      "texp guess: 4499.5\n",
      "reference spec\n"
     ]
    },
    {
     "name": "stderr",
     "output_type": "stream",
     "text": [
      "WARNING: Source spectrum will be extrapolated (at constant value for empirical model). [synphot.observation]\n",
      "/Users/rridden/miniconda3/lib/python3.8/site-packages/pandeia/engine/report.py:422: RuntimeWarning: divide by zero encountered in true_divide\n",
      "  sn = self.extracted['extracted_flux'] / self.extracted['extracted_noise']\n",
      "/Users/rridden/miniconda3/lib/python3.8/site-packages/pandeia/engine/projection.py:66: RuntimeWarning: divide by zero encountered in true_divide\n",
      "  self.detector_sn = (s - self.bg_pix) / n\n",
      "WARNING: Source spectrum will be extrapolated (at constant value for empirical model). [synphot.observation]\n"
     ]
    },
    {
     "name": "stdout",
     "output_type": "stream",
     "text": [
      "filter:f200w mag:26.00, target exptime:4726.8  ==> SNR=9.78 exptime=4726.8\n",
      "SNR=  9.78 for next texp=4726.8\n",
      "SNR=  9.78>5.00 for texp=4726.8, checking the next lower exptime...\n",
      "reference spec\n"
     ]
    },
    {
     "name": "stderr",
     "output_type": "stream",
     "text": [
      "/Users/rridden/miniconda3/lib/python3.8/site-packages/pandeia/engine/report.py:422: RuntimeWarning: divide by zero encountered in true_divide\n",
      "  sn = self.extracted['extracted_flux'] / self.extracted['extracted_noise']\n",
      "/Users/rridden/miniconda3/lib/python3.8/site-packages/pandeia/engine/projection.py:66: RuntimeWarning: divide by zero encountered in true_divide\n",
      "  self.detector_sn = (s - self.bg_pix) / n\n",
      "WARNING: Source spectrum will be extrapolated (at constant value for empirical model). [synphot.observation]\n"
     ]
    },
    {
     "name": "stdout",
     "output_type": "stream",
     "text": [
      "filter:f200w mag:26.00, target exptime:4493.4  ==> SNR=9.36 exptime=4493.4\n",
      "SNR=  9.36>5.00 for texp=4493.4, checking the next lower exptime...\n",
      "reference spec\n"
     ]
    },
    {
     "name": "stderr",
     "output_type": "stream",
     "text": [
      "/Users/rridden/miniconda3/lib/python3.8/site-packages/pandeia/engine/report.py:422: RuntimeWarning: divide by zero encountered in true_divide\n",
      "  sn = self.extracted['extracted_flux'] / self.extracted['extracted_noise']\n",
      "/Users/rridden/miniconda3/lib/python3.8/site-packages/pandeia/engine/projection.py:66: RuntimeWarning: divide by zero encountered in true_divide\n",
      "  self.detector_sn = (s - self.bg_pix) / n\n",
      "WARNING: Source spectrum will be extrapolated (at constant value for empirical model). [synphot.observation]\n"
     ]
    },
    {
     "name": "stdout",
     "output_type": "stream",
     "text": [
      "filter:f200w mag:26.00, target exptime:4260.0  ==> SNR=8.93 exptime=4260.0\n",
      "SNR=  8.93>5.00 for texp=4260.0, checking the next lower exptime...\n",
      "reference spec\n"
     ]
    },
    {
     "name": "stderr",
     "output_type": "stream",
     "text": [
      "/Users/rridden/miniconda3/lib/python3.8/site-packages/pandeia/engine/report.py:422: RuntimeWarning: divide by zero encountered in true_divide\n",
      "  sn = self.extracted['extracted_flux'] / self.extracted['extracted_noise']\n",
      "/Users/rridden/miniconda3/lib/python3.8/site-packages/pandeia/engine/projection.py:66: RuntimeWarning: divide by zero encountered in true_divide\n",
      "  self.detector_sn = (s - self.bg_pix) / n\n",
      "WARNING: Source spectrum will be extrapolated (at constant value for empirical model). [synphot.observation]\n"
     ]
    },
    {
     "name": "stdout",
     "output_type": "stream",
     "text": [
      "filter:f200w mag:26.00, target exptime:4026.6  ==> SNR=8.48 exptime=4026.5\n",
      "SNR=  8.48>5.00 for texp=4026.5, checking the next lower exptime...\n",
      "reference spec\n"
     ]
    },
    {
     "name": "stderr",
     "output_type": "stream",
     "text": [
      "/Users/rridden/miniconda3/lib/python3.8/site-packages/pandeia/engine/report.py:422: RuntimeWarning: divide by zero encountered in true_divide\n",
      "  sn = self.extracted['extracted_flux'] / self.extracted['extracted_noise']\n",
      "/Users/rridden/miniconda3/lib/python3.8/site-packages/pandeia/engine/projection.py:66: RuntimeWarning: divide by zero encountered in true_divide\n",
      "  self.detector_sn = (s - self.bg_pix) / n\n",
      "WARNING: Source spectrum will be extrapolated (at constant value for empirical model). [synphot.observation]\n"
     ]
    },
    {
     "name": "stdout",
     "output_type": "stream",
     "text": [
      "filter:f200w mag:26.00, target exptime:3793.1  ==> SNR=8.02 exptime=3793.1\n",
      "SNR=  8.02>5.00 for texp=3793.1, checking the next lower exptime...\n",
      "reference spec\n"
     ]
    },
    {
     "name": "stderr",
     "output_type": "stream",
     "text": [
      "/Users/rridden/miniconda3/lib/python3.8/site-packages/pandeia/engine/report.py:422: RuntimeWarning: divide by zero encountered in true_divide\n",
      "  sn = self.extracted['extracted_flux'] / self.extracted['extracted_noise']\n",
      "/Users/rridden/miniconda3/lib/python3.8/site-packages/pandeia/engine/projection.py:66: RuntimeWarning: divide by zero encountered in true_divide\n",
      "  self.detector_sn = (s - self.bg_pix) / n\n",
      "WARNING: Source spectrum will be extrapolated (at constant value for empirical model). [synphot.observation]\n"
     ]
    },
    {
     "name": "stdout",
     "output_type": "stream",
     "text": [
      "filter:f200w mag:26.00, target exptime:3559.7  ==> SNR=7.55 exptime=3559.7\n",
      "SNR=  7.55>5.00 for texp=3559.7, checking the next lower exptime...\n",
      "reference spec\n"
     ]
    },
    {
     "name": "stderr",
     "output_type": "stream",
     "text": [
      "/Users/rridden/miniconda3/lib/python3.8/site-packages/pandeia/engine/report.py:422: RuntimeWarning: divide by zero encountered in true_divide\n",
      "  sn = self.extracted['extracted_flux'] / self.extracted['extracted_noise']\n",
      "/Users/rridden/miniconda3/lib/python3.8/site-packages/pandeia/engine/projection.py:66: RuntimeWarning: divide by zero encountered in true_divide\n",
      "  self.detector_sn = (s - self.bg_pix) / n\n",
      "WARNING: Source spectrum will be extrapolated (at constant value for empirical model). [synphot.observation]\n"
     ]
    },
    {
     "name": "stdout",
     "output_type": "stream",
     "text": [
      "filter:f200w mag:26.00, target exptime:3326.3  ==> SNR=7.06 exptime=3326.3\n",
      "SNR=  7.06>5.00 for texp=3326.3, checking the next lower exptime...\n",
      "reference spec\n"
     ]
    },
    {
     "name": "stderr",
     "output_type": "stream",
     "text": [
      "/Users/rridden/miniconda3/lib/python3.8/site-packages/pandeia/engine/report.py:422: RuntimeWarning: divide by zero encountered in true_divide\n",
      "  sn = self.extracted['extracted_flux'] / self.extracted['extracted_noise']\n",
      "/Users/rridden/miniconda3/lib/python3.8/site-packages/pandeia/engine/projection.py:66: RuntimeWarning: divide by zero encountered in true_divide\n",
      "  self.detector_sn = (s - self.bg_pix) / n\n",
      "WARNING: Source spectrum will be extrapolated (at constant value for empirical model). [synphot.observation]\n"
     ]
    },
    {
     "name": "stdout",
     "output_type": "stream",
     "text": [
      "filter:f200w mag:26.00, target exptime:3092.9  ==> SNR=6.56 exptime=3092.8\n",
      "SNR=  6.56>5.00 for texp=3092.8, checking the next lower exptime...\n",
      "reference spec\n"
     ]
    },
    {
     "name": "stderr",
     "output_type": "stream",
     "text": [
      "/Users/rridden/miniconda3/lib/python3.8/site-packages/pandeia/engine/report.py:422: RuntimeWarning: divide by zero encountered in true_divide\n",
      "  sn = self.extracted['extracted_flux'] / self.extracted['extracted_noise']\n",
      "/Users/rridden/miniconda3/lib/python3.8/site-packages/pandeia/engine/projection.py:66: RuntimeWarning: divide by zero encountered in true_divide\n",
      "  self.detector_sn = (s - self.bg_pix) / n\n",
      "WARNING: Source spectrum will be extrapolated (at constant value for empirical model). [synphot.observation]\n"
     ]
    },
    {
     "name": "stdout",
     "output_type": "stream",
     "text": [
      "filter:f200w mag:26.00, target exptime:2859.4  ==> SNR=6.05 exptime=2859.4\n",
      "SNR=  6.05>5.00 for texp=2859.4, checking the next lower exptime...\n",
      "reference spec\n"
     ]
    },
    {
     "name": "stderr",
     "output_type": "stream",
     "text": [
      "/Users/rridden/miniconda3/lib/python3.8/site-packages/pandeia/engine/report.py:422: RuntimeWarning: divide by zero encountered in true_divide\n",
      "  sn = self.extracted['extracted_flux'] / self.extracted['extracted_noise']\n",
      "/Users/rridden/miniconda3/lib/python3.8/site-packages/pandeia/engine/projection.py:66: RuntimeWarning: divide by zero encountered in true_divide\n",
      "  self.detector_sn = (s - self.bg_pix) / n\n",
      "WARNING: Source spectrum will be extrapolated (at constant value for empirical model). [synphot.observation]\n"
     ]
    },
    {
     "name": "stdout",
     "output_type": "stream",
     "text": [
      "filter:f200w mag:26.00, target exptime:2626.0  ==> SNR=5.53 exptime=2626.0\n",
      "SNR=  5.53>5.00 for texp=2626.0, checking the next lower exptime...\n",
      "reference spec\n"
     ]
    },
    {
     "name": "stderr",
     "output_type": "stream",
     "text": [
      "/Users/rridden/miniconda3/lib/python3.8/site-packages/pandeia/engine/report.py:422: RuntimeWarning: divide by zero encountered in true_divide\n",
      "  sn = self.extracted['extracted_flux'] / self.extracted['extracted_noise']\n",
      "/Users/rridden/miniconda3/lib/python3.8/site-packages/pandeia/engine/projection.py:66: RuntimeWarning: divide by zero encountered in true_divide\n",
      "  self.detector_sn = (s - self.bg_pix) / n\n",
      "WARNING: Source spectrum will be extrapolated (at constant value for empirical model). [synphot.observation]\n"
     ]
    },
    {
     "name": "stdout",
     "output_type": "stream",
     "text": [
      "filter:f200w mag:26.00, target exptime:2392.6  ==> SNR=4.99 exptime=2392.6\n",
      "SNR=  5.53>=5.00 for texp=2626.0, and SNR=4.99<5.00 for texp=2392.6!! SUCCESS!\n",
      "#############################\n",
      "#### Filter:f200w, mag 27.000000, grating: g235h, for S/N=5 \n",
      "#############################\n",
      "reference spec\n"
     ]
    },
    {
     "name": "stderr",
     "output_type": "stream",
     "text": [
      "/Users/rridden/miniconda3/lib/python3.8/site-packages/pandeia/engine/report.py:422: RuntimeWarning: divide by zero encountered in true_divide\n",
      "  sn = self.extracted['extracted_flux'] / self.extracted['extracted_noise']\n",
      "/Users/rridden/miniconda3/lib/python3.8/site-packages/pandeia/engine/projection.py:66: RuntimeWarning: divide by zero encountered in true_divide\n",
      "  self.detector_sn = (s - self.bg_pix) / n\n",
      "WARNING: Source spectrum will be extrapolated (at constant value for empirical model). [synphot.observation]\n"
     ]
    },
    {
     "name": "stdout",
     "output_type": "stream",
     "text": [
      "filter:f200w mag:27.00, target exptime:1000.0  ==> SNR=0.66 exptime=992.0\n",
      "SNR=  0.66 for starting texp= 992.0\n",
      "texp guess: 15947.5\n",
      "reference spec\n"
     ]
    },
    {
     "name": "stderr",
     "output_type": "stream",
     "text": [
      "/Users/rridden/miniconda3/lib/python3.8/site-packages/pandeia/engine/report.py:422: RuntimeWarning: divide by zero encountered in true_divide\n",
      "  sn = self.extracted['extracted_flux'] / self.extracted['extracted_noise']\n",
      "/Users/rridden/miniconda3/lib/python3.8/site-packages/pandeia/engine/projection.py:66: RuntimeWarning: divide by zero encountered in true_divide\n",
      "  self.detector_sn = (s - self.bg_pix) / n\n",
      "WARNING: Source spectrum will be extrapolated (at constant value for empirical model). [synphot.observation]\n"
     ]
    },
    {
     "name": "stdout",
     "output_type": "stream",
     "text": [
      "filter:f200w mag:27.00, target exptime:9920.5  ==> SNR=5.77 exptime=9920.4\n",
      "SNR=  5.77 for next texp=9920.4\n",
      "SNR=  5.77>5.00 for texp=9920.4, checking the next lower exptime...\n",
      "reference spec\n"
     ]
    },
    {
     "name": "stderr",
     "output_type": "stream",
     "text": [
      "/Users/rridden/miniconda3/lib/python3.8/site-packages/pandeia/engine/report.py:422: RuntimeWarning: divide by zero encountered in true_divide\n",
      "  sn = self.extracted['extracted_flux'] / self.extracted['extracted_noise']\n",
      "/Users/rridden/miniconda3/lib/python3.8/site-packages/pandeia/engine/projection.py:66: RuntimeWarning: divide by zero encountered in true_divide\n",
      "  self.detector_sn = (s - self.bg_pix) / n\n",
      "WARNING: Source spectrum will be extrapolated (at constant value for empirical model). [synphot.observation]\n"
     ]
    },
    {
     "name": "stdout",
     "output_type": "stream",
     "text": [
      "filter:f200w mag:27.00, target exptime:9453.7  ==> SNR=5.54 exptime=9453.6\n",
      "SNR=  5.54>5.00 for texp=9453.6, checking the next lower exptime...\n",
      "reference spec\n"
     ]
    },
    {
     "name": "stderr",
     "output_type": "stream",
     "text": [
      "/Users/rridden/miniconda3/lib/python3.8/site-packages/pandeia/engine/report.py:422: RuntimeWarning: divide by zero encountered in true_divide\n",
      "  sn = self.extracted['extracted_flux'] / self.extracted['extracted_noise']\n",
      "/Users/rridden/miniconda3/lib/python3.8/site-packages/pandeia/engine/projection.py:66: RuntimeWarning: divide by zero encountered in true_divide\n",
      "  self.detector_sn = (s - self.bg_pix) / n\n",
      "WARNING: Source spectrum will be extrapolated (at constant value for empirical model). [synphot.observation]\n"
     ]
    },
    {
     "name": "stdout",
     "output_type": "stream",
     "text": [
      "filter:f200w mag:27.00, target exptime:8986.8  ==> SNR=5.30 exptime=8986.8\n",
      "SNR=  5.30>5.00 for texp=8986.8, checking the next lower exptime...\n",
      "reference spec\n"
     ]
    },
    {
     "name": "stderr",
     "output_type": "stream",
     "text": [
      "/Users/rridden/miniconda3/lib/python3.8/site-packages/pandeia/engine/report.py:422: RuntimeWarning: divide by zero encountered in true_divide\n",
      "  sn = self.extracted['extracted_flux'] / self.extracted['extracted_noise']\n",
      "/Users/rridden/miniconda3/lib/python3.8/site-packages/pandeia/engine/projection.py:66: RuntimeWarning: divide by zero encountered in true_divide\n",
      "  self.detector_sn = (s - self.bg_pix) / n\n",
      "WARNING: Source spectrum will be extrapolated (at constant value for empirical model). [synphot.observation]\n"
     ]
    },
    {
     "name": "stdout",
     "output_type": "stream",
     "text": [
      "filter:f200w mag:27.00, target exptime:8520.0  ==> SNR=5.05 exptime=8519.9\n",
      "SNR=  5.05>5.00 for texp=8519.9, checking the next lower exptime...\n",
      "reference spec\n"
     ]
    },
    {
     "name": "stderr",
     "output_type": "stream",
     "text": [
      "/Users/rridden/miniconda3/lib/python3.8/site-packages/pandeia/engine/report.py:422: RuntimeWarning: divide by zero encountered in true_divide\n",
      "  sn = self.extracted['extracted_flux'] / self.extracted['extracted_noise']\n",
      "/Users/rridden/miniconda3/lib/python3.8/site-packages/pandeia/engine/projection.py:66: RuntimeWarning: divide by zero encountered in true_divide\n",
      "  self.detector_sn = (s - self.bg_pix) / n\n",
      "WARNING: Source spectrum will be extrapolated (at constant value for empirical model). [synphot.observation]\n"
     ]
    },
    {
     "name": "stdout",
     "output_type": "stream",
     "text": [
      "filter:f200w mag:27.00, target exptime:8053.1  ==> SNR=4.80 exptime=8053.1\n",
      "SNR=  5.05>=5.00 for texp=8519.9, and SNR=4.80<5.00 for texp=8053.1!! SUCCESS!\n",
      "#############################\n",
      "#### Filter:f200w, mag 28.000000, grating: g235h, for S/N=5 \n",
      "#############################\n",
      "reference spec\n"
     ]
    },
    {
     "name": "stderr",
     "output_type": "stream",
     "text": [
      "/Users/rridden/miniconda3/lib/python3.8/site-packages/pandeia/engine/report.py:422: RuntimeWarning: divide by zero encountered in true_divide\n",
      "  sn = self.extracted['extracted_flux'] / self.extracted['extracted_noise']\n",
      "/Users/rridden/miniconda3/lib/python3.8/site-packages/pandeia/engine/projection.py:66: RuntimeWarning: divide by zero encountered in true_divide\n",
      "  self.detector_sn = (s - self.bg_pix) / n\n",
      "WARNING: Source spectrum will be extrapolated (at constant value for empirical model). [synphot.observation]\n"
     ]
    },
    {
     "name": "stdout",
     "output_type": "stream",
     "text": [
      "filter:f200w mag:28.00, target exptime:1000.0  ==> SNR=0.26 exptime=992.0\n",
      "SNR=  0.26 for starting texp= 992.0\n",
      "texp guess: 56559.4\n",
      "reference spec\n"
     ]
    },
    {
     "name": "stderr",
     "output_type": "stream",
     "text": [
      "/Users/rridden/miniconda3/lib/python3.8/site-packages/pandeia/engine/report.py:422: RuntimeWarning: divide by zero encountered in true_divide\n",
      "  sn = self.extracted['extracted_flux'] / self.extracted['extracted_noise']\n",
      "/Users/rridden/miniconda3/lib/python3.8/site-packages/pandeia/engine/projection.py:66: RuntimeWarning: divide by zero encountered in true_divide\n",
      "  self.detector_sn = (s - self.bg_pix) / n\n",
      "WARNING: Source spectrum will be extrapolated (at constant value for empirical model). [synphot.observation]\n"
     ]
    },
    {
     "name": "stdout",
     "output_type": "stream",
     "text": [
      "filter:f200w mag:28.00, target exptime:9920.5  ==> SNR=2.30 exptime=9920.4\n",
      "SNR=  2.30 for next texp=9920.4\n",
      "SNR=  2.30<5.00 for texp=9920.4, checking the next larger exptime...\n",
      "Warning: could not find an exposure time that is long enough to reach SNR=5.00, only 2.30\n",
      "#############################\n",
      "#### Filter:f200w, mag 29.000000, grating: g235h, for S/N=5 \n",
      "#############################\n",
      "reference spec\n"
     ]
    },
    {
     "name": "stderr",
     "output_type": "stream",
     "text": [
      "/Users/rridden/miniconda3/lib/python3.8/site-packages/pandeia/engine/report.py:422: RuntimeWarning: divide by zero encountered in true_divide\n",
      "  sn = self.extracted['extracted_flux'] / self.extracted['extracted_noise']\n",
      "/Users/rridden/miniconda3/lib/python3.8/site-packages/pandeia/engine/projection.py:66: RuntimeWarning: divide by zero encountered in true_divide\n",
      "  self.detector_sn = (s - self.bg_pix) / n\n",
      "WARNING: Source spectrum will be extrapolated (at constant value for empirical model). [synphot.observation]\n"
     ]
    },
    {
     "name": "stdout",
     "output_type": "stream",
     "text": [
      "filter:f200w mag:29.00, target exptime:1000.0  ==> SNR=0.11 exptime=992.0\n",
      "SNR=  0.11 for starting texp= 992.0\n",
      "texp guess: 200645.9\n",
      "reference spec\n"
     ]
    },
    {
     "name": "stderr",
     "output_type": "stream",
     "text": [
      "/Users/rridden/miniconda3/lib/python3.8/site-packages/pandeia/engine/report.py:422: RuntimeWarning: divide by zero encountered in true_divide\n",
      "  sn = self.extracted['extracted_flux'] / self.extracted['extracted_noise']\n",
      "/Users/rridden/miniconda3/lib/python3.8/site-packages/pandeia/engine/projection.py:66: RuntimeWarning: divide by zero encountered in true_divide\n",
      "  self.detector_sn = (s - self.bg_pix) / n\n",
      "WARNING: Source spectrum will be extrapolated (at constant value for empirical model). [synphot.observation]\n"
     ]
    },
    {
     "name": "stdout",
     "output_type": "stream",
     "text": [
      "filter:f200w mag:29.00, target exptime:9920.5  ==> SNR=0.92 exptime=9920.4\n",
      "SNR=  0.92 for next texp=9920.4\n",
      "SNR=  0.92<5.00 for texp=9920.4, checking the next larger exptime...\n",
      "Warning: could not find an exposure time that is long enough to reach SNR=5.00, only 0.92\n",
      "#############################\n",
      "#### Filter:f200w, mag 24.000000, grating: prism, for S/N=5 \n",
      "#############################\n",
      "reference spec\n"
     ]
    },
    {
     "name": "stderr",
     "output_type": "stream",
     "text": [
      "WARNING: nan_treatment='interpolate', however, NaN values detected post convolution. A contiguous region of NaN values, larger than the kernel size, are present in the input array. Increase the kernel size to avoid this. [astropy.convolution.convolve]\n"
     ]
    },
    {
     "name": "stdout",
     "output_type": "stream",
     "text": [
      "filter:f200w mag:24.00, target exptime:1000.0  ==> SNR=52.85 exptime=992.0\n",
      "SNR= 52.85 for starting texp= 992.0\n",
      "texp guess: 38.8\n",
      "reference spec\n"
     ]
    },
    {
     "name": "stderr",
     "output_type": "stream",
     "text": [
      "WARNING: Source spectrum will be extrapolated (at constant value for empirical model). [synphot.observation]\n",
      "WARNING: nan_treatment='interpolate', however, NaN values detected post convolution. A contiguous region of NaN values, larger than the kernel size, are present in the input array. Increase the kernel size to avoid this. [astropy.convolution.convolve]\n"
     ]
    },
    {
     "name": "stdout",
     "output_type": "stream",
     "text": [
      "filter:f200w mag:24.00, target exptime:291.8  ==> SNR=10.90 exptime=291.8\n",
      "SNR= 10.90 for next texp= 291.8\n",
      "SNR= 10.90>5.00 for texp= 291.8, checking the next lower exptime...\n",
      "Warning: could not find an exposure time that is short enough to be below SNR=5.00, thus keeping texp=291.8 and SNR=10.90\n",
      "#############################\n",
      "#### Filter:f200w, mag 25.000000, grating: prism, for S/N=5 \n",
      "#############################\n",
      "reference spec\n"
     ]
    },
    {
     "name": "stderr",
     "output_type": "stream",
     "text": [
      "WARNING: Source spectrum will be extrapolated (at constant value for empirical model). [synphot.observation]\n",
      "WARNING: nan_treatment='interpolate', however, NaN values detected post convolution. A contiguous region of NaN values, larger than the kernel size, are present in the input array. Increase the kernel size to avoid this. [astropy.convolution.convolve]\n"
     ]
    },
    {
     "name": "stdout",
     "output_type": "stream",
     "text": [
      "filter:f200w mag:25.00, target exptime:1000.0  ==> SNR=23.83 exptime=992.0\n",
      "SNR= 23.83 for starting texp= 992.0\n",
      "texp guess: 115.9\n",
      "reference spec\n"
     ]
    },
    {
     "name": "stderr",
     "output_type": "stream",
     "text": [
      "WARNING: Source spectrum will be extrapolated (at constant value for empirical model). [synphot.observation]\n",
      "WARNING: nan_treatment='interpolate', however, NaN values detected post convolution. A contiguous region of NaN values, larger than the kernel size, are present in the input array. Increase the kernel size to avoid this. [astropy.convolution.convolve]\n"
     ]
    },
    {
     "name": "stdout",
     "output_type": "stream",
     "text": [
      "filter:f200w mag:25.00, target exptime:291.8  ==> SNR=4.43 exptime=291.8\n",
      "SNR=  4.43 for next texp= 291.8\n",
      "SNR=  4.43<5.00 for texp= 291.8, checking the next larger exptime...\n",
      "reference spec\n"
     ]
    },
    {
     "name": "stderr",
     "output_type": "stream",
     "text": [
      "WARNING: Source spectrum will be extrapolated (at constant value for empirical model). [synphot.observation]\n",
      "WARNING: nan_treatment='interpolate', however, NaN values detected post convolution. A contiguous region of NaN values, larger than the kernel size, are present in the input array. Increase the kernel size to avoid this. [astropy.convolution.convolve]\n"
     ]
    },
    {
     "name": "stdout",
     "output_type": "stream",
     "text": [
      "filter:f200w mag:25.00, target exptime:525.2  ==> SNR=11.24 exptime=525.2\n",
      "SNR= 11.24>=5.00 for texp= 525.2!! SUCCESS!\n",
      "#############################\n",
      "#### Filter:f200w, mag 26.000000, grating: prism, for S/N=5 \n",
      "#############################\n",
      "reference spec\n"
     ]
    },
    {
     "name": "stderr",
     "output_type": "stream",
     "text": [
      "WARNING: Source spectrum will be extrapolated (at constant value for empirical model). [synphot.observation]\n",
      "WARNING: nan_treatment='interpolate', however, NaN values detected post convolution. A contiguous region of NaN values, larger than the kernel size, are present in the input array. Increase the kernel size to avoid this. [astropy.convolution.convolve]\n"
     ]
    },
    {
     "name": "stdout",
     "output_type": "stream",
     "text": [
      "filter:f200w mag:26.00, target exptime:1000.0  ==> SNR=10.07 exptime=992.0\n",
      "SNR= 10.07 for starting texp= 992.0\n",
      "texp guess: 378.7\n",
      "reference spec\n"
     ]
    },
    {
     "name": "stderr",
     "output_type": "stream",
     "text": [
      "WARNING: Source spectrum will be extrapolated (at constant value for empirical model). [synphot.observation]\n",
      "WARNING: nan_treatment='interpolate', however, NaN values detected post convolution. A contiguous region of NaN values, larger than the kernel size, are present in the input array. Increase the kernel size to avoid this. [astropy.convolution.convolve]\n"
     ]
    },
    {
     "name": "stdout",
     "output_type": "stream",
     "text": [
      "filter:f200w mag:26.00, target exptime:525.2  ==> SNR=4.59 exptime=525.2\n",
      "SNR=  4.59 for next texp= 525.2\n",
      "SNR=  4.59<5.00 for texp= 525.2, checking the next larger exptime...\n",
      "reference spec\n"
     ]
    },
    {
     "name": "stderr",
     "output_type": "stream",
     "text": [
      "WARNING: Source spectrum will be extrapolated (at constant value for empirical model). [synphot.observation]\n",
      "WARNING: nan_treatment='interpolate', however, NaN values detected post convolution. A contiguous region of NaN values, larger than the kernel size, are present in the input array. Increase the kernel size to avoid this. [astropy.convolution.convolve]\n"
     ]
    },
    {
     "name": "stdout",
     "output_type": "stream",
     "text": [
      "filter:f200w mag:26.00, target exptime:758.6  ==> SNR=7.44 exptime=758.6\n",
      "SNR=  7.44>=5.00 for texp= 758.6!! SUCCESS!\n",
      "#############################\n",
      "#### Filter:f200w, mag 27.000000, grating: prism, for S/N=5 \n",
      "#############################\n",
      "reference spec\n"
     ]
    },
    {
     "name": "stderr",
     "output_type": "stream",
     "text": [
      "WARNING: Source spectrum will be extrapolated (at constant value for empirical model). [synphot.observation]\n",
      "WARNING: nan_treatment='interpolate', however, NaN values detected post convolution. A contiguous region of NaN values, larger than the kernel size, are present in the input array. Increase the kernel size to avoid this. [astropy.convolution.convolve]\n"
     ]
    },
    {
     "name": "stdout",
     "output_type": "stream",
     "text": [
      "filter:f200w mag:27.00, target exptime:1000.0  ==> SNR=4.11 exptime=992.0\n",
      "SNR=  4.11 for starting texp= 992.0\n",
      "texp guess: 1296.8\n",
      "reference spec\n"
     ]
    },
    {
     "name": "stderr",
     "output_type": "stream",
     "text": [
      "WARNING: Source spectrum will be extrapolated (at constant value for empirical model). [synphot.observation]\n",
      "WARNING: nan_treatment='interpolate', however, NaN values detected post convolution. A contiguous region of NaN values, larger than the kernel size, are present in the input array. Increase the kernel size to avoid this. [astropy.convolution.convolve]\n"
     ]
    },
    {
     "name": "stdout",
     "output_type": "stream",
     "text": [
      "filter:f200w mag:27.00, target exptime:1458.9  ==> SNR=6.00 exptime=1458.9\n",
      "SNR=  6.00 for next texp=1458.9\n",
      "SNR=  6.00>5.00 for texp=1458.9, checking the next lower exptime...\n",
      "reference spec\n"
     ]
    },
    {
     "name": "stderr",
     "output_type": "stream",
     "text": [
      "WARNING: Source spectrum will be extrapolated (at constant value for empirical model). [synphot.observation]\n",
      "WARNING: nan_treatment='interpolate', however, NaN values detected post convolution. A contiguous region of NaN values, larger than the kernel size, are present in the input array. Increase the kernel size to avoid this. [astropy.convolution.convolve]\n"
     ]
    },
    {
     "name": "stdout",
     "output_type": "stream",
     "text": [
      "filter:f200w mag:27.00, target exptime:1225.5  ==> SNR=5.11 exptime=1225.5\n",
      "SNR=  5.11>5.00 for texp=1225.5, checking the next lower exptime...\n",
      "reference spec\n"
     ]
    },
    {
     "name": "stderr",
     "output_type": "stream",
     "text": [
      "WARNING: Source spectrum will be extrapolated (at constant value for empirical model). [synphot.observation]\n",
      "WARNING: nan_treatment='interpolate', however, NaN values detected post convolution. A contiguous region of NaN values, larger than the kernel size, are present in the input array. Increase the kernel size to avoid this. [astropy.convolution.convolve]\n"
     ]
    },
    {
     "name": "stdout",
     "output_type": "stream",
     "text": [
      "filter:f200w mag:27.00, target exptime:992.0  ==> SNR=4.11 exptime=992.0\n",
      "SNR=  5.11>=5.00 for texp=1225.5, and SNR=4.11<5.00 for texp= 992.0!! SUCCESS!\n",
      "#############################\n",
      "#### Filter:f200w, mag 28.000000, grating: prism, for S/N=5 \n",
      "#############################\n",
      "reference spec\n"
     ]
    },
    {
     "name": "stderr",
     "output_type": "stream",
     "text": [
      "WARNING: Source spectrum will be extrapolated (at constant value for empirical model). [synphot.observation]\n",
      "WARNING: nan_treatment='interpolate', however, NaN values detected post convolution. A contiguous region of NaN values, larger than the kernel size, are present in the input array. Increase the kernel size to avoid this. [astropy.convolution.convolve]\n"
     ]
    },
    {
     "name": "stdout",
     "output_type": "stream",
     "text": [
      "filter:f200w mag:28.00, target exptime:1000.0  ==> SNR=1.66 exptime=992.0\n",
      "SNR=  1.66 for starting texp= 992.0\n",
      "texp guess: 4534.0\n",
      "reference spec\n"
     ]
    },
    {
     "name": "stderr",
     "output_type": "stream",
     "text": [
      "WARNING: Source spectrum will be extrapolated (at constant value for empirical model). [synphot.observation]\n",
      "WARNING: nan_treatment='interpolate', however, NaN values detected post convolution. A contiguous region of NaN values, larger than the kernel size, are present in the input array. Increase the kernel size to avoid this. [astropy.convolution.convolve]\n"
     ]
    },
    {
     "name": "stdout",
     "output_type": "stream",
     "text": [
      "filter:f200w mag:28.00, target exptime:4726.8  ==> SNR=5.38 exptime=4726.8\n",
      "SNR=  5.38 for next texp=4726.8\n",
      "SNR=  5.38>5.00 for texp=4726.8, checking the next lower exptime...\n",
      "reference spec\n"
     ]
    },
    {
     "name": "stderr",
     "output_type": "stream",
     "text": [
      "WARNING: Source spectrum will be extrapolated (at constant value for empirical model). [synphot.observation]\n",
      "WARNING: nan_treatment='interpolate', however, NaN values detected post convolution. A contiguous region of NaN values, larger than the kernel size, are present in the input array. Increase the kernel size to avoid this. [astropy.convolution.convolve]\n"
     ]
    },
    {
     "name": "stdout",
     "output_type": "stream",
     "text": [
      "filter:f200w mag:28.00, target exptime:4493.4  ==> SNR=5.24 exptime=4493.4\n",
      "SNR=  5.24>5.00 for texp=4493.4, checking the next lower exptime...\n",
      "reference spec\n"
     ]
    },
    {
     "name": "stderr",
     "output_type": "stream",
     "text": [
      "WARNING: Source spectrum will be extrapolated (at constant value for empirical model). [synphot.observation]\n",
      "WARNING: nan_treatment='interpolate', however, NaN values detected post convolution. A contiguous region of NaN values, larger than the kernel size, are present in the input array. Increase the kernel size to avoid this. [astropy.convolution.convolve]\n"
     ]
    },
    {
     "name": "stdout",
     "output_type": "stream",
     "text": [
      "filter:f200w mag:28.00, target exptime:4260.0  ==> SNR=5.09 exptime=4260.0\n",
      "SNR=  5.09>5.00 for texp=4260.0, checking the next lower exptime...\n",
      "reference spec\n"
     ]
    },
    {
     "name": "stderr",
     "output_type": "stream",
     "text": [
      "WARNING: Source spectrum will be extrapolated (at constant value for empirical model). [synphot.observation]\n",
      "WARNING: nan_treatment='interpolate', however, NaN values detected post convolution. A contiguous region of NaN values, larger than the kernel size, are present in the input array. Increase the kernel size to avoid this. [astropy.convolution.convolve]\n"
     ]
    },
    {
     "name": "stdout",
     "output_type": "stream",
     "text": [
      "filter:f200w mag:28.00, target exptime:4026.6  ==> SNR=4.94 exptime=4026.5\n",
      "SNR=  5.09>=5.00 for texp=4260.0, and SNR=4.94<5.00 for texp=4026.5!! SUCCESS!\n",
      "#############################\n",
      "#### Filter:f200w, mag 29.000000, grating: prism, for S/N=5 \n",
      "#############################\n",
      "reference spec\n"
     ]
    },
    {
     "name": "stderr",
     "output_type": "stream",
     "text": [
      "WARNING: Source spectrum will be extrapolated (at constant value for empirical model). [synphot.observation]\n",
      "WARNING: nan_treatment='interpolate', however, NaN values detected post convolution. A contiguous region of NaN values, larger than the kernel size, are present in the input array. Increase the kernel size to avoid this. [astropy.convolution.convolve]\n"
     ]
    },
    {
     "name": "stdout",
     "output_type": "stream",
     "text": [
      "filter:f200w mag:29.00, target exptime:1000.0  ==> SNR=0.66 exptime=992.0\n",
      "SNR=  0.66 for starting texp= 992.0\n",
      "texp guess: 15991.9\n",
      "reference spec\n"
     ]
    },
    {
     "name": "stderr",
     "output_type": "stream",
     "text": [
      "WARNING: Source spectrum will be extrapolated (at constant value for empirical model). [synphot.observation]\n",
      "WARNING: nan_treatment='interpolate', however, NaN values detected post convolution. A contiguous region of NaN values, larger than the kernel size, are present in the input array. Increase the kernel size to avoid this. [astropy.convolution.convolve]\n"
     ]
    },
    {
     "name": "stdout",
     "output_type": "stream",
     "text": [
      "filter:f200w mag:29.00, target exptime:9920.5  ==> SNR=3.13 exptime=9920.4\n",
      "SNR=  3.13 for next texp=9920.4\n",
      "SNR=  3.13<5.00 for texp=9920.4, checking the next larger exptime...\n",
      "Warning: could not find an exposure time that is long enough to reach SNR=5.00, only 3.13\n"
     ]
    },
    {
     "data": {
      "text/plain": [
       "0"
      ]
     },
     "execution_count": 5,
     "metadata": {},
     "output_type": "execute_result"
    }
   ],
   "source": [
    "jwst_SNR.verbose=2\n",
    "jwst_SNR.Spec_texp_table(2,.1,'f200w',np.arange(24.0,30.0,1),5,spec=sniaz4)\n",
    "# write the result table to file \n",
    "jwst_SNR.texp.write('NIRSpec_SNR4.txt',formatters=jwst_SNR.formatters4texptable)"
   ]
  },
  {
   "cell_type": "markdown",
   "metadata": {},
   "source": [
    "# Detailed SNR analysis with NIRSpec_SNR\n",
    "NIRSpec offers a wide variety of observation modes that can significantly change the SNR. Furthermore the Pandeia system produces simulated data for the entire NIRSpec range, which allows us to examine the SNR for all wavelengths and generate random realisations of NIRSpec spectra as observed by JWST through Pandeia. \n",
    "\n",
    "NIRSpec_SNR has additional functions that aid in analysing spectra with Pandeia. If the input spectra is normalised to a distance of 10pc the spectrum can be scalled in flux and wavelength by inputing a desired redshift or luminosity distance. We will go through a few examples here."
   ]
  },
  {
   "cell_type": "code",
   "execution_count": null,
   "metadata": {},
   "outputs": [],
   "source": [
    "nspec = NIRSpec_SNR(spec=snia,grating='g235h')\n",
    "# We want a SN Ia at z=3, since we input a spectrum normalised to d=10pc we can use the distance scaling\n",
    "nspec.Distance_scale(z=3)\n",
    "# dust extinction can also be added \n",
    "nspec.Redden_spec(av=.03)"
   ]
  },
  {
   "cell_type": "markdown",
   "metadata": {},
   "source": [
    "The SNR can then be calculated by simply inputing an exposure time "
   ]
  },
  {
   "cell_type": "code",
   "execution_count": null,
   "metadata": {},
   "outputs": [],
   "source": [
    "nspec.Calculate_SNR(exptime=1000)"
   ]
  },
  {
   "cell_type": "markdown",
   "metadata": {},
   "source": [
    "We can see the SNR and the calculated flux as follows"
   ]
  },
  {
   "cell_type": "code",
   "execution_count": null,
   "metadata": {},
   "outputs": [],
   "source": [
    "plt.figure()\n",
    "plt.plot(nspec.calc_wave,nspec.calc_flux)\n",
    "\n",
    "plt.figure()\n",
    "plt.plot(nspec.calc_wave,nspec.calc_sn)"
   ]
  }
 ],
 "metadata": {
  "kernelspec": {
   "display_name": "Python 3",
   "language": "python",
   "name": "python3"
  },
  "language_info": {
   "codemirror_mode": {
    "name": "ipython",
    "version": 3
   },
   "file_extension": ".py",
   "mimetype": "text/x-python",
   "name": "python",
   "nbconvert_exporter": "python",
   "pygments_lexer": "ipython3",
   "version": "3.8.3"
  }
 },
 "nbformat": 4,
 "nbformat_minor": 4
}
