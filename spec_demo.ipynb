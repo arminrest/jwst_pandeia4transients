{
 "cells": [
  {
   "cell_type": "code",
   "execution_count": 1,
   "metadata": {},
   "outputs": [],
   "source": [
    "from jwst_SNR import jwst_SNRclass\n",
    "import numpy as np\n",
    "from nirspec_sn import *\n",
    "%matplotlib notebook"
   ]
  },
  {
   "cell_type": "code",
   "execution_count": 2,
   "metadata": {},
   "outputs": [
    {
     "name": "stdout",
     "output_type": "stream",
     "text": [
      "{'ElGordo': ('01 02 55.2', '-49 14 29.3'), 'EmptyERS': ('03 32 42.397', '-27 42 7.93'), 'NEP-TDF': ('17:22:47.896', '+65:49:21.54'), 'NEP-DF': ('17:40:08.00', '+69:00:08.00'), 'CDF-S': ('03:32:28.0', '−27:48:30')}\n",
      "Calculating background for position ElGordo (15.730000,-49.241472)\n"
     ]
    }
   ],
   "source": [
    "from background4jwst import background4jwstclass\n",
    "background4jwst=background4jwstclass()\n",
    "    \n",
    "# set the position for which the background will be calculated. set_position_by_target uses \n",
    "# pre-defined positions, set_position can be used to set any position\n",
    "print(background4jwst.defaulttargets)\n",
    "background4jwst.set_position_by_target('ElGordo')\n",
    "# alternatively, background4jwst.set_position('01 02 55.2','-49 14 29.3','ElGordo')\n",
    "# Get the background from pandeia for this position\n",
    "# optional parameters: lam, thresh\n",
    "background4jwst.calc_background()"
   ]
  },
  {
   "cell_type": "code",
   "execution_count": 3,
   "metadata": {},
   "outputs": [
    {
     "name": "stdout",
     "output_type": "stream",
     "text": [
      "Initializing pandeia with nirspec, None\n",
      "Initializing nirspec fixed_slit\n",
      "Calculating background for position EmptyERS (53.176654,-27.702203)\n",
      "### Calculating percentile: 50\n",
      "day: 187\n"
     ]
    },
    {
     "data": {
      "text/plain": [
       "0"
      ]
     },
     "execution_count": 3,
     "metadata": {},
     "output_type": "execute_result"
    }
   ],
   "source": [
    "jwst_SNR=jwst_SNRclass(instrument='nirspec')\n",
    "#jwst_SNR=jwst_SNRclass(instrument='nircam')\n",
    "\n",
    "jwst_SNR.set_background4jwst(50,target='EmptyERS')"
   ]
  },
  {
   "cell_type": "code",
   "execution_count": 4,
   "metadata": {},
   "outputs": [
    {
     "name": "stdout",
     "output_type": "stream",
     "text": [
      "Warning, 26 of 4762 bins contained negative fluxes; they have been set to zero.\n"
     ]
    }
   ],
   "source": [
    "from astropy.io import ascii\n",
    "\n",
    "file = './data/siebert_phase_binned_2day_N=99_Nspec=153_phase=p0.95_dm15=1.15_z=0.014.txt'\n",
    "data = ascii.read(file)  \n",
    "df = data.to_pandas()\n",
    "snia = S.ArraySpectrum(df['Wavelength'].values,df['Flux'].values,waveunits='angstrom',\n",
    "               fluxunits='flam')\n",
    "snia = snia.redshift(4)"
   ]
  },
  {
   "cell_type": "code",
   "execution_count": 5,
   "metadata": {
    "scrolled": false
   },
   "outputs": [
    {
     "name": "stdout",
     "output_type": "stream",
     "text": [
      "#############################\n",
      "#### Filter F200W, mag 24.00 for S/N=5 \n",
      "#############################\n",
      "reference spec\n",
      "Ehu  {'readout_pattern': 'nrsirs2rapid', 'NGROUP': 16, 'NINT': 1, 'tint': 233.4, 'NEXP': 4, 'texp': 992.0}\n"
     ]
    },
    {
     "name": "stderr",
     "output_type": "stream",
     "text": [
      "WARNING: Source spectrum will be extrapolated (at constant value for empirical model). [synphot.observation]\n",
      "WARNING: nan_treatment='interpolate', however, NaN values detected post convolution. A contiguous region of NaN values, larger than the kernel size, are present in the input array. Increase the kernel size to avoid this. [astropy.convolution.convolve]\n"
     ]
    },
    {
     "name": "stdout",
     "output_type": "stream",
     "text": [
      "total texp  992.0445199999999\n",
      "filter:F200W mag:24.00, target exptime:1000.0  ==> SNR=13.20 exptime=992.0\n",
      "SNR= 13.20 for starting texp= 992.0\n",
      "texp guess: 261.1\n",
      "reference spec\n",
      "Ehu  {'readout_pattern': 'nrsirs2rapid', 'NGROUP': 4, 'NINT': 1, 'tint': 58.4, 'NEXP': 4, 'texp': 291.8}\n"
     ]
    },
    {
     "name": "stderr",
     "output_type": "stream",
     "text": [
      "WARNING: Source spectrum will be extrapolated (at constant value for empirical model). [synphot.observation]\n",
      "WARNING: nan_treatment='interpolate', however, NaN values detected post convolution. A contiguous region of NaN values, larger than the kernel size, are present in the input array. Increase the kernel size to avoid this. [astropy.convolution.convolve]\n"
     ]
    },
    {
     "name": "stdout",
     "output_type": "stream",
     "text": [
      "total texp  291.77779999999996\n",
      "filter:F200W mag:24.00, target exptime:291.8  ==> SNR=2.68 exptime=291.8\n",
      "SNR=  2.68 for next texp= 291.8\n",
      "SNR=  2.68<5.00 for texp= 291.8, checking the next larger exptime...\n",
      "reference spec\n",
      "Ehu  {'readout_pattern': 'nrsirs2rapid', 'NGROUP': 8, 'NINT': 1, 'tint': 116.7, 'NEXP': 4, 'texp': 525.2}\n"
     ]
    },
    {
     "name": "stderr",
     "output_type": "stream",
     "text": [
      "WARNING: Source spectrum will be extrapolated (at constant value for empirical model). [synphot.observation]\n",
      "WARNING: nan_treatment='interpolate', however, NaN values detected post convolution. A contiguous region of NaN values, larger than the kernel size, are present in the input array. Increase the kernel size to avoid this. [astropy.convolution.convolve]\n"
     ]
    },
    {
     "name": "stdout",
     "output_type": "stream",
     "text": [
      "total texp  525.20004\n",
      "filter:F200W mag:24.00, target exptime:525.2  ==> SNR=6.58 exptime=525.2\n",
      "SNR=  6.58>=5.00 for texp= 525.2!! SUCCESS!\n",
      "#############################\n",
      "#### Filter F200W, mag 25.00 for S/N=5 \n",
      "#############################\n",
      "reference spec\n",
      "Ehu  {'readout_pattern': 'nrsirs2rapid', 'NGROUP': 16, 'NINT': 1, 'tint': 233.4, 'NEXP': 4, 'texp': 992.0}\n"
     ]
    },
    {
     "name": "stderr",
     "output_type": "stream",
     "text": [
      "WARNING: Source spectrum will be extrapolated (at constant value for empirical model). [synphot.observation]\n",
      "WARNING: nan_treatment='interpolate', however, NaN values detected post convolution. A contiguous region of NaN values, larger than the kernel size, are present in the input array. Increase the kernel size to avoid this. [astropy.convolution.convolve]\n"
     ]
    },
    {
     "name": "stdout",
     "output_type": "stream",
     "text": [
      "total texp  992.0445199999999\n",
      "filter:F200W mag:25.00, target exptime:1000.0  ==> SNR=5.89 exptime=992.0\n",
      "SNR=  5.89 for starting texp= 992.0\n",
      "texp guess: 791.7\n",
      "reference spec\n",
      "Ehu  {'readout_pattern': 'nrsirs2rapid', 'NGROUP': 16, 'NINT': 1, 'tint': 233.4, 'NEXP': 4, 'texp': 992.0}\n"
     ]
    },
    {
     "name": "stderr",
     "output_type": "stream",
     "text": [
      "WARNING: Source spectrum will be extrapolated (at constant value for empirical model). [synphot.observation]\n",
      "WARNING: nan_treatment='interpolate', however, NaN values detected post convolution. A contiguous region of NaN values, larger than the kernel size, are present in the input array. Increase the kernel size to avoid this. [astropy.convolution.convolve]\n"
     ]
    },
    {
     "name": "stdout",
     "output_type": "stream",
     "text": [
      "total texp  992.0445199999999\n",
      "filter:F200W mag:25.00, target exptime:992.0  ==> SNR=5.89 exptime=992.0\n",
      "SNR=  5.89 for next texp= 992.0\n",
      "SNR=  5.89>5.00 for texp= 992.0, checking the next lower exptime...\n",
      "BLEH  758.6\n",
      "reference spec\n",
      "Ehu  {'readout_pattern': 'nrsirs2rapid', 'NGROUP': 12, 'NINT': 1, 'tint': 175.1, 'NEXP': 4, 'texp': 758.6}\n"
     ]
    },
    {
     "name": "stderr",
     "output_type": "stream",
     "text": [
      "WARNING: Source spectrum will be extrapolated (at constant value for empirical model). [synphot.observation]\n",
      "WARNING: nan_treatment='interpolate', however, NaN values detected post convolution. A contiguous region of NaN values, larger than the kernel size, are present in the input array. Increase the kernel size to avoid this. [astropy.convolution.convolve]\n"
     ]
    },
    {
     "name": "stdout",
     "output_type": "stream",
     "text": [
      "total texp  758.6222799999999\n",
      "filter:F200W mag:25.00, target exptime:758.6  ==> SNR=4.41 exptime=758.6\n",
      "SNR=  5.89>=5.00 for texp= 992.0, and SNR=4.41<5.00 for texp= 758.6!! SUCCESS!\n",
      "#############################\n",
      "#### Filter F200W, mag 26.00 for S/N=5 \n",
      "#############################\n",
      "reference spec\n",
      "Ehu  {'readout_pattern': 'nrsirs2rapid', 'NGROUP': 16, 'NINT': 1, 'tint': 233.4, 'NEXP': 4, 'texp': 992.0}\n"
     ]
    },
    {
     "name": "stderr",
     "output_type": "stream",
     "text": [
      "WARNING: Source spectrum will be extrapolated (at constant value for empirical model). [synphot.observation]\n",
      "WARNING: nan_treatment='interpolate', however, NaN values detected post convolution. A contiguous region of NaN values, larger than the kernel size, are present in the input array. Increase the kernel size to avoid this. [astropy.convolution.convolve]\n"
     ]
    },
    {
     "name": "stdout",
     "output_type": "stream",
     "text": [
      "total texp  992.0445199999999\n",
      "filter:F200W mag:26.00, target exptime:1000.0  ==> SNR=2.48 exptime=992.0\n",
      "SNR=  2.48 for starting texp= 992.0\n",
      "texp guess: 2605.6\n",
      "reference spec\n",
      "Ehu  {'readout_pattern': 'nrsirs2rapid', 'NGROUP': 44, 'NINT': 1, 'tint': 641.9, 'NEXP': 4, 'texp': 2626.0}\n"
     ]
    },
    {
     "name": "stderr",
     "output_type": "stream",
     "text": [
      "WARNING: Source spectrum will be extrapolated (at constant value for empirical model). [synphot.observation]\n",
      "WARNING: nan_treatment='interpolate', however, NaN values detected post convolution. A contiguous region of NaN values, larger than the kernel size, are present in the input array. Increase the kernel size to avoid this. [astropy.convolution.convolve]\n"
     ]
    },
    {
     "name": "stdout",
     "output_type": "stream",
     "text": [
      "total texp  2626.0002\n",
      "filter:F200W mag:26.00, target exptime:2626.0  ==> SNR=5.57 exptime=2626.0\n",
      "SNR=  5.57 for next texp=2626.0\n",
      "SNR=  5.57>5.00 for texp=2626.0, checking the next lower exptime...\n",
      "BLEH  2392.6\n",
      "reference spec\n",
      "Ehu  {'readout_pattern': 'nrsirs2rapid', 'NGROUP': 40, 'NINT': 1, 'tint': 583.6, 'NEXP': 4, 'texp': 2392.6}\n"
     ]
    },
    {
     "name": "stderr",
     "output_type": "stream",
     "text": [
      "WARNING: Source spectrum will be extrapolated (at constant value for empirical model). [synphot.observation]\n",
      "WARNING: nan_treatment='interpolate', however, NaN values detected post convolution. A contiguous region of NaN values, larger than the kernel size, are present in the input array. Increase the kernel size to avoid this. [astropy.convolution.convolve]\n"
     ]
    },
    {
     "name": "stdout",
     "output_type": "stream",
     "text": [
      "total texp  2392.57796\n",
      "filter:F200W mag:26.00, target exptime:2392.6  ==> SNR=5.23 exptime=2392.6\n",
      "SNR=  5.23>5.00 for texp=2392.6, checking the next lower exptime...\n",
      "BLEH  2159.2\n",
      "reference spec\n",
      "Ehu  {'readout_pattern': 'nrsirs2rapid', 'NGROUP': 36, 'NINT': 1, 'tint': 525.2, 'NEXP': 4, 'texp': 2159.2}\n"
     ]
    },
    {
     "name": "stderr",
     "output_type": "stream",
     "text": [
      "WARNING: Source spectrum will be extrapolated (at constant value for empirical model). [synphot.observation]\n",
      "WARNING: nan_treatment='interpolate', however, NaN values detected post convolution. A contiguous region of NaN values, larger than the kernel size, are present in the input array. Increase the kernel size to avoid this. [astropy.convolution.convolve]\n"
     ]
    },
    {
     "name": "stdout",
     "output_type": "stream",
     "text": [
      "total texp  2159.1557199999997\n",
      "filter:F200W mag:26.00, target exptime:2159.2  ==> SNR=4.88 exptime=2159.2\n",
      "SNR=  5.23>=5.00 for texp=2392.6, and SNR=4.88<5.00 for texp=2159.2!! SUCCESS!\n",
      "#############################\n",
      "#### Filter F200W, mag 27.00 for S/N=5 \n",
      "#############################\n",
      "reference spec\n",
      "Ehu  {'readout_pattern': 'nrsirs2rapid', 'NGROUP': 16, 'NINT': 1, 'tint': 233.4, 'NEXP': 4, 'texp': 992.0}\n"
     ]
    },
    {
     "name": "stderr",
     "output_type": "stream",
     "text": [
      "WARNING: Source spectrum will be extrapolated (at constant value for empirical model). [synphot.observation]\n",
      "WARNING: nan_treatment='interpolate', however, NaN values detected post convolution. A contiguous region of NaN values, larger than the kernel size, are present in the input array. Increase the kernel size to avoid this. [astropy.convolution.convolve]\n"
     ]
    },
    {
     "name": "stdout",
     "output_type": "stream",
     "text": [
      "total texp  992.0445199999999\n",
      "filter:F200W mag:27.00, target exptime:1000.0  ==> SNR=1.01 exptime=992.0\n",
      "SNR=  1.01 for starting texp= 992.0\n",
      "texp guess: 8948.2\n",
      "reference spec\n",
      "Ehu  {'readout_pattern': 'nrsirs2rapid', 'NGROUP': 80, 'NINT': 2, 'tint': 1167.1, 'NEXP': 4, 'texp': 9395.3}\n"
     ]
    },
    {
     "name": "stderr",
     "output_type": "stream",
     "text": [
      "WARNING: Source spectrum will be extrapolated (at constant value for empirical model). [synphot.observation]\n",
      "WARNING: nan_treatment='interpolate', however, NaN values detected post convolution. A contiguous region of NaN values, larger than the kernel size, are present in the input array. Increase the kernel size to avoid this. [astropy.convolution.convolve]\n"
     ]
    },
    {
     "name": "stdout",
     "output_type": "stream",
     "text": [
      "total texp  9453.60072\n",
      "filter:F200W mag:27.00, target exptime:9395.3  ==> SNR=4.64 exptime=9453.6\n",
      "SNR=  4.64 for next texp=9453.6\n",
      "SNR=  4.64<5.00 for texp=9453.6, checking the next larger exptime...\n",
      "reference spec\n",
      "Ehu  {'readout_pattern': 'nrsirs2rapid', 'NGROUP': 84, 'NINT': 2, 'tint': 1225.5, 'NEXP': 4, 'texp': 9862.2}\n"
     ]
    },
    {
     "name": "stderr",
     "output_type": "stream",
     "text": [
      "WARNING: Source spectrum will be extrapolated (at constant value for empirical model). [synphot.observation]\n",
      "WARNING: nan_treatment='interpolate', however, NaN values detected post convolution. A contiguous region of NaN values, larger than the kernel size, are present in the input array. Increase the kernel size to avoid this. [astropy.convolution.convolve]\n"
     ]
    },
    {
     "name": "stdout",
     "output_type": "stream",
     "text": [
      "total texp  9920.4452\n",
      "filter:F200W mag:27.00, target exptime:9862.2  ==> SNR=4.75 exptime=9920.4\n",
      "SNR=  4.75<5.00 for texp=9920.4, checking the next larger exptime...\n",
      "Warning: could not find an exposure time that is long enough to reach SNR=5.00, only 4.75\n",
      "#############################\n",
      "#### Filter F200W, mag 28.00 for S/N=5 \n",
      "#############################\n",
      "reference spec\n",
      "Ehu  {'readout_pattern': 'nrsirs2rapid', 'NGROUP': 16, 'NINT': 1, 'tint': 233.4, 'NEXP': 4, 'texp': 992.0}\n"
     ]
    },
    {
     "name": "stderr",
     "output_type": "stream",
     "text": [
      "WARNING: Source spectrum will be extrapolated (at constant value for empirical model). [synphot.observation]\n",
      "WARNING: nan_treatment='interpolate', however, NaN values detected post convolution. A contiguous region of NaN values, larger than the kernel size, are present in the input array. Increase the kernel size to avoid this. [astropy.convolution.convolve]\n"
     ]
    },
    {
     "name": "stdout",
     "output_type": "stream",
     "text": [
      "total texp  992.0445199999999\n",
      "filter:F200W mag:28.00, target exptime:1000.0  ==> SNR=0.41 exptime=992.0\n",
      "SNR=  0.41 for starting texp= 992.0\n",
      "texp guess: 31324.2\n",
      "reference spec\n",
      "Ehu  {'readout_pattern': 'nrsirs2rapid', 'NGROUP': 84, 'NINT': 2, 'tint': 1225.5, 'NEXP': 4, 'texp': 9862.2}\n"
     ]
    },
    {
     "name": "stderr",
     "output_type": "stream",
     "text": [
      "WARNING: Source spectrum will be extrapolated (at constant value for empirical model). [synphot.observation]\n",
      "WARNING: nan_treatment='interpolate', however, NaN values detected post convolution. A contiguous region of NaN values, larger than the kernel size, are present in the input array. Increase the kernel size to avoid this. [astropy.convolution.convolve]\n"
     ]
    },
    {
     "name": "stdout",
     "output_type": "stream",
     "text": [
      "total texp  9920.4452\n",
      "filter:F200W mag:28.00, target exptime:9862.2  ==> SNR=1.94 exptime=9920.4\n",
      "SNR=  1.94 for next texp=9920.4\n",
      "SNR=  1.94<5.00 for texp=9920.4, checking the next larger exptime...\n",
      "Warning: could not find an exposure time that is long enough to reach SNR=5.00, only 1.94\n",
      "#############################\n",
      "#### Filter F200W, mag 29.00 for S/N=5 \n",
      "#############################\n",
      "reference spec\n",
      "Ehu  {'readout_pattern': 'nrsirs2rapid', 'NGROUP': 16, 'NINT': 1, 'tint': 233.4, 'NEXP': 4, 'texp': 992.0}\n"
     ]
    },
    {
     "name": "stderr",
     "output_type": "stream",
     "text": [
      "WARNING: Source spectrum will be extrapolated (at constant value for empirical model). [synphot.observation]\n",
      "WARNING: nan_treatment='interpolate', however, NaN values detected post convolution. A contiguous region of NaN values, larger than the kernel size, are present in the input array. Increase the kernel size to avoid this. [astropy.convolution.convolve]\n"
     ]
    },
    {
     "name": "stdout",
     "output_type": "stream",
     "text": [
      "total texp  992.0445199999999\n",
      "filter:F200W mag:29.00, target exptime:1000.0  ==> SNR=0.16 exptime=992.0\n",
      "SNR=  0.16 for starting texp= 992.0\n",
      "texp guess: 110538.2\n",
      "reference spec\n",
      "Ehu  {'readout_pattern': 'nrsirs2rapid', 'NGROUP': 84, 'NINT': 2, 'tint': 1225.5, 'NEXP': 4, 'texp': 9862.2}\n"
     ]
    },
    {
     "name": "stderr",
     "output_type": "stream",
     "text": [
      "WARNING: Source spectrum will be extrapolated (at constant value for empirical model). [synphot.observation]\n",
      "WARNING: nan_treatment='interpolate', however, NaN values detected post convolution. A contiguous region of NaN values, larger than the kernel size, are present in the input array. Increase the kernel size to avoid this. [astropy.convolution.convolve]\n"
     ]
    },
    {
     "name": "stdout",
     "output_type": "stream",
     "text": [
      "total texp  9920.4452\n",
      "filter:F200W mag:29.00, target exptime:9862.2  ==> SNR=0.78 exptime=9920.4\n",
      "SNR=  0.78 for next texp=9920.4\n",
      "SNR=  0.78<5.00 for texp=9920.4, checking the next larger exptime...\n",
      "Warning: could not find an exposure time that is long enough to reach SNR=5.00, only 0.78\n"
     ]
    },
    {
     "data": {
      "text/plain": [
       "0"
      ]
     },
     "execution_count": 5,
     "metadata": {},
     "output_type": "execute_result"
    }
   ],
   "source": [
    "# this part fials\n",
    "jwst_SNR.verbose=2\n",
    "jwst_SNR.Imaging_texp_table(['F200W'],np.arange(24.0,30.0,1),5,spec=snia,wave=2,width=.5)\n",
    "jwst_SNR.texp.write('NIRSpec_SNR4.txt',formatters=jwst_SNR.formatters4texptable)"
   ]
  },
  {
   "cell_type": "code",
   "execution_count": null,
   "metadata": {
    "scrolled": false
   },
   "outputs": [],
   "source": [
    "jwst_SNR.ETCresults"
   ]
  },
  {
   "cell_type": "code",
   "execution_count": null,
   "metadata": {
    "scrolled": true
   },
   "outputs": [],
   "source": [
    "jwst_SNR.ETCresults"
   ]
  },
  {
   "cell_type": "code",
   "execution_count": null,
   "metadata": {},
   "outputs": [],
   "source": [
    "plt.figure()\n",
    "plt.plot(snia.wave,snia.flux)"
   ]
  },
  {
   "cell_type": "code",
   "execution_count": null,
   "metadata": {
    "scrolled": false
   },
   "outputs": [],
   "source": [
    "jwst_SNR.verbose=2\n",
    "jwst_SNR.Imaging_SNR_table(['F200W','F444W'],np.arange(25.0,26.0,0.5),1000,spec=snia,wave=2,width=.5)"
   ]
  },
  {
   "cell_type": "code",
   "execution_count": null,
   "metadata": {},
   "outputs": [],
   "source": [
    "import math"
   ]
  },
  {
   "cell_type": "code",
   "execution_count": null,
   "metadata": {},
   "outputs": [],
   "source": [
    "math.pow(5/2,2)"
   ]
  },
  {
   "cell_type": "code",
   "execution_count": null,
   "metadata": {},
   "outputs": [],
   "source": []
  },
  {
   "cell_type": "code",
   "execution_count": null,
   "metadata": {
    "scrolled": true
   },
   "outputs": [],
   "source": []
  },
  {
   "cell_type": "code",
   "execution_count": null,
   "metadata": {},
   "outputs": [],
   "source": []
  },
  {
   "cell_type": "code",
   "execution_count": null,
   "metadata": {},
   "outputs": [],
   "source": []
  },
  {
   "cell_type": "code",
   "execution_count": null,
   "metadata": {},
   "outputs": [],
   "source": [
    "res = jwst_SNR.ETCresults"
   ]
  },
  {
   "cell_type": "code",
   "execution_count": null,
   "metadata": {},
   "outputs": [],
   "source": [
    "snr = res['1d']['sn']"
   ]
  },
  {
   "cell_type": "code",
   "execution_count": null,
   "metadata": {},
   "outputs": [],
   "source": [
    "plt.figure()\n",
    "plt.plot(snr[0],snr[1])"
   ]
  },
  {
   "cell_type": "code",
   "execution_count": null,
   "metadata": {},
   "outputs": [],
   "source": [
    "plt.axvspan()"
   ]
  }
 ],
 "metadata": {
  "kernelspec": {
   "display_name": "Python 3",
   "language": "python",
   "name": "python3"
  },
  "language_info": {
   "codemirror_mode": {
    "name": "ipython",
    "version": 3
   },
   "file_extension": ".py",
   "mimetype": "text/x-python",
   "name": "python",
   "nbconvert_exporter": "python",
   "pygments_lexer": "ipython3",
   "version": "3.8.3"
  }
 },
 "nbformat": 4,
 "nbformat_minor": 4
}
